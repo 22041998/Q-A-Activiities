{
 "cells": [
  {
   "cell_type": "code",
   "execution_count": 47,
   "metadata": {
    "id": "VC3j-hftcHcd"
   },
   "outputs": [],
   "source": [
    "# importing libraries\n",
    "import pandas as pd\n",
    "import numpy as np\n",
    "import matplotlib.pyplot as plt\n",
    "import seaborn as sns\n",
    "import warnings\n",
    "warnings.filterwarnings(\"ignore\") "
   ]
  },
  {
   "cell_type": "code",
   "execution_count": 48,
   "metadata": {
    "colab": {
     "base_uri": "https://localhost:8080/",
     "height": 206
    },
    "id": "8oYwUb_-uujv",
    "outputId": "be3a99bc-9fba-4c7d-9976-d58b977ec05b"
   },
   "outputs": [
    {
     "data": {
      "text/html": [
       "<div>\n",
       "<style scoped>\n",
       "    .dataframe tbody tr th:only-of-type {\n",
       "        vertical-align: middle;\n",
       "    }\n",
       "\n",
       "    .dataframe tbody tr th {\n",
       "        vertical-align: top;\n",
       "    }\n",
       "\n",
       "    .dataframe thead th {\n",
       "        text-align: right;\n",
       "    }\n",
       "</style>\n",
       "<table border=\"1\" class=\"dataframe\">\n",
       "  <thead>\n",
       "    <tr style=\"text-align: right;\">\n",
       "      <th></th>\n",
       "      <th>Unnamed: 0</th>\n",
       "      <th>Murder</th>\n",
       "      <th>Assault</th>\n",
       "      <th>UrbanPop</th>\n",
       "      <th>Rape</th>\n",
       "    </tr>\n",
       "  </thead>\n",
       "  <tbody>\n",
       "    <tr>\n",
       "      <th>0</th>\n",
       "      <td>Alabama</td>\n",
       "      <td>13.2</td>\n",
       "      <td>236</td>\n",
       "      <td>58</td>\n",
       "      <td>21.2</td>\n",
       "    </tr>\n",
       "    <tr>\n",
       "      <th>1</th>\n",
       "      <td>Alaska</td>\n",
       "      <td>10.0</td>\n",
       "      <td>263</td>\n",
       "      <td>48</td>\n",
       "      <td>44.5</td>\n",
       "    </tr>\n",
       "    <tr>\n",
       "      <th>2</th>\n",
       "      <td>Arizona</td>\n",
       "      <td>8.1</td>\n",
       "      <td>294</td>\n",
       "      <td>80</td>\n",
       "      <td>31.0</td>\n",
       "    </tr>\n",
       "    <tr>\n",
       "      <th>3</th>\n",
       "      <td>Arkansas</td>\n",
       "      <td>8.8</td>\n",
       "      <td>190</td>\n",
       "      <td>50</td>\n",
       "      <td>19.5</td>\n",
       "    </tr>\n",
       "    <tr>\n",
       "      <th>4</th>\n",
       "      <td>California</td>\n",
       "      <td>9.0</td>\n",
       "      <td>276</td>\n",
       "      <td>91</td>\n",
       "      <td>40.6</td>\n",
       "    </tr>\n",
       "  </tbody>\n",
       "</table>\n",
       "</div>"
      ],
      "text/plain": [
       "   Unnamed: 0  Murder  Assault  UrbanPop  Rape\n",
       "0     Alabama    13.2      236        58  21.2\n",
       "1      Alaska    10.0      263        48  44.5\n",
       "2     Arizona     8.1      294        80  31.0\n",
       "3    Arkansas     8.8      190        50  19.5\n",
       "4  California     9.0      276        91  40.6"
      ]
     },
     "execution_count": 48,
     "metadata": {},
     "output_type": "execute_result"
    }
   ],
   "source": [
    "# Reading dataset\n",
    "Data=pd.read_csv(\"USArrests.csv\")\n",
    "Data.head()"
   ]
  },
  {
   "cell_type": "code",
   "execution_count": 49,
   "metadata": {},
   "outputs": [
    {
     "data": {
      "text/plain": [
       "Index(['State', 'Murder', 'Assault', 'UrbanPop', 'Rape'], dtype='object')"
      ]
     },
     "execution_count": 49,
     "metadata": {},
     "output_type": "execute_result"
    }
   ],
   "source": [
    "Data.rename(columns = {'Unnamed: 0':'State'}, inplace = True)\n",
    "Data.columns"
   ]
  },
  {
   "cell_type": "code",
   "execution_count": 50,
   "metadata": {
    "colab": {
     "base_uri": "https://localhost:8080/"
    },
    "id": "xwVk6kLhu_Qe",
    "outputId": "1d2bbb65-ad6c-41ee-999e-2cf10c119a30"
   },
   "outputs": [
    {
     "data": {
      "text/plain": [
       "State       0\n",
       "Murder      0\n",
       "Assault     0\n",
       "UrbanPop    0\n",
       "Rape        0\n",
       "dtype: int64"
      ]
     },
     "execution_count": 50,
     "metadata": {},
     "output_type": "execute_result"
    }
   ],
   "source": [
    "# Checking for null values\n",
    "Data.isna().sum()"
   ]
  },
  {
   "cell_type": "code",
   "execution_count": 51,
   "metadata": {
    "colab": {
     "base_uri": "https://localhost:8080/",
     "height": 300
    },
    "id": "qKW-NA6JvF0O",
    "outputId": "ff266d52-63c4-4ab4-b22a-497393ff94df"
   },
   "outputs": [
    {
     "data": {
      "text/html": [
       "<div>\n",
       "<style scoped>\n",
       "    .dataframe tbody tr th:only-of-type {\n",
       "        vertical-align: middle;\n",
       "    }\n",
       "\n",
       "    .dataframe tbody tr th {\n",
       "        vertical-align: top;\n",
       "    }\n",
       "\n",
       "    .dataframe thead th {\n",
       "        text-align: right;\n",
       "    }\n",
       "</style>\n",
       "<table border=\"1\" class=\"dataframe\">\n",
       "  <thead>\n",
       "    <tr style=\"text-align: right;\">\n",
       "      <th></th>\n",
       "      <th>Murder</th>\n",
       "      <th>Assault</th>\n",
       "      <th>UrbanPop</th>\n",
       "      <th>Rape</th>\n",
       "    </tr>\n",
       "  </thead>\n",
       "  <tbody>\n",
       "    <tr>\n",
       "      <th>count</th>\n",
       "      <td>50.00000</td>\n",
       "      <td>50.000000</td>\n",
       "      <td>50.000000</td>\n",
       "      <td>50.000000</td>\n",
       "    </tr>\n",
       "    <tr>\n",
       "      <th>mean</th>\n",
       "      <td>7.78800</td>\n",
       "      <td>170.760000</td>\n",
       "      <td>65.540000</td>\n",
       "      <td>21.232000</td>\n",
       "    </tr>\n",
       "    <tr>\n",
       "      <th>std</th>\n",
       "      <td>4.35551</td>\n",
       "      <td>83.337661</td>\n",
       "      <td>14.474763</td>\n",
       "      <td>9.366385</td>\n",
       "    </tr>\n",
       "    <tr>\n",
       "      <th>min</th>\n",
       "      <td>0.80000</td>\n",
       "      <td>45.000000</td>\n",
       "      <td>32.000000</td>\n",
       "      <td>7.300000</td>\n",
       "    </tr>\n",
       "    <tr>\n",
       "      <th>25%</th>\n",
       "      <td>4.07500</td>\n",
       "      <td>109.000000</td>\n",
       "      <td>54.500000</td>\n",
       "      <td>15.075000</td>\n",
       "    </tr>\n",
       "    <tr>\n",
       "      <th>50%</th>\n",
       "      <td>7.25000</td>\n",
       "      <td>159.000000</td>\n",
       "      <td>66.000000</td>\n",
       "      <td>20.100000</td>\n",
       "    </tr>\n",
       "    <tr>\n",
       "      <th>75%</th>\n",
       "      <td>11.25000</td>\n",
       "      <td>249.000000</td>\n",
       "      <td>77.750000</td>\n",
       "      <td>26.175000</td>\n",
       "    </tr>\n",
       "    <tr>\n",
       "      <th>max</th>\n",
       "      <td>17.40000</td>\n",
       "      <td>337.000000</td>\n",
       "      <td>91.000000</td>\n",
       "      <td>46.000000</td>\n",
       "    </tr>\n",
       "  </tbody>\n",
       "</table>\n",
       "</div>"
      ],
      "text/plain": [
       "         Murder     Assault   UrbanPop       Rape\n",
       "count  50.00000   50.000000  50.000000  50.000000\n",
       "mean    7.78800  170.760000  65.540000  21.232000\n",
       "std     4.35551   83.337661  14.474763   9.366385\n",
       "min     0.80000   45.000000  32.000000   7.300000\n",
       "25%     4.07500  109.000000  54.500000  15.075000\n",
       "50%     7.25000  159.000000  66.000000  20.100000\n",
       "75%    11.25000  249.000000  77.750000  26.175000\n",
       "max    17.40000  337.000000  91.000000  46.000000"
      ]
     },
     "execution_count": 51,
     "metadata": {},
     "output_type": "execute_result"
    }
   ],
   "source": [
    "# Statistical summary\n",
    "Data.describe()"
   ]
  },
  {
   "cell_type": "code",
   "execution_count": 52,
   "metadata": {
    "colab": {
     "base_uri": "https://localhost:8080/",
     "height": 1000
    },
    "id": "nAmu5Ig2vOam",
    "outputId": "e8238dd8-39ae-496f-fdea-ee345f3ed79f"
   },
   "outputs": [
    {
     "data": {
      "text/html": [
       "<div>\n",
       "<style scoped>\n",
       "    .dataframe tbody tr th:only-of-type {\n",
       "        vertical-align: middle;\n",
       "    }\n",
       "\n",
       "    .dataframe tbody tr th {\n",
       "        vertical-align: top;\n",
       "    }\n",
       "\n",
       "    .dataframe thead th {\n",
       "        text-align: right;\n",
       "    }\n",
       "</style>\n",
       "<table border=\"1\" class=\"dataframe\">\n",
       "  <thead>\n",
       "    <tr style=\"text-align: right;\">\n",
       "      <th></th>\n",
       "      <th>Murder</th>\n",
       "      <th>Assault</th>\n",
       "      <th>UrbanPop</th>\n",
       "      <th>Rape</th>\n",
       "    </tr>\n",
       "  </thead>\n",
       "  <tbody>\n",
       "    <tr>\n",
       "      <th>0</th>\n",
       "      <td>13.2</td>\n",
       "      <td>236</td>\n",
       "      <td>58</td>\n",
       "      <td>21.2</td>\n",
       "    </tr>\n",
       "    <tr>\n",
       "      <th>1</th>\n",
       "      <td>10.0</td>\n",
       "      <td>263</td>\n",
       "      <td>48</td>\n",
       "      <td>44.5</td>\n",
       "    </tr>\n",
       "    <tr>\n",
       "      <th>2</th>\n",
       "      <td>8.1</td>\n",
       "      <td>294</td>\n",
       "      <td>80</td>\n",
       "      <td>31.0</td>\n",
       "    </tr>\n",
       "    <tr>\n",
       "      <th>3</th>\n",
       "      <td>8.8</td>\n",
       "      <td>190</td>\n",
       "      <td>50</td>\n",
       "      <td>19.5</td>\n",
       "    </tr>\n",
       "    <tr>\n",
       "      <th>4</th>\n",
       "      <td>9.0</td>\n",
       "      <td>276</td>\n",
       "      <td>91</td>\n",
       "      <td>40.6</td>\n",
       "    </tr>\n",
       "    <tr>\n",
       "      <th>5</th>\n",
       "      <td>7.9</td>\n",
       "      <td>204</td>\n",
       "      <td>78</td>\n",
       "      <td>38.7</td>\n",
       "    </tr>\n",
       "    <tr>\n",
       "      <th>6</th>\n",
       "      <td>3.3</td>\n",
       "      <td>110</td>\n",
       "      <td>77</td>\n",
       "      <td>11.1</td>\n",
       "    </tr>\n",
       "    <tr>\n",
       "      <th>7</th>\n",
       "      <td>5.9</td>\n",
       "      <td>238</td>\n",
       "      <td>72</td>\n",
       "      <td>15.8</td>\n",
       "    </tr>\n",
       "    <tr>\n",
       "      <th>8</th>\n",
       "      <td>15.4</td>\n",
       "      <td>335</td>\n",
       "      <td>80</td>\n",
       "      <td>31.9</td>\n",
       "    </tr>\n",
       "    <tr>\n",
       "      <th>9</th>\n",
       "      <td>17.4</td>\n",
       "      <td>211</td>\n",
       "      <td>60</td>\n",
       "      <td>25.8</td>\n",
       "    </tr>\n",
       "    <tr>\n",
       "      <th>10</th>\n",
       "      <td>5.3</td>\n",
       "      <td>46</td>\n",
       "      <td>83</td>\n",
       "      <td>20.2</td>\n",
       "    </tr>\n",
       "    <tr>\n",
       "      <th>11</th>\n",
       "      <td>2.6</td>\n",
       "      <td>120</td>\n",
       "      <td>54</td>\n",
       "      <td>14.2</td>\n",
       "    </tr>\n",
       "    <tr>\n",
       "      <th>12</th>\n",
       "      <td>10.4</td>\n",
       "      <td>249</td>\n",
       "      <td>83</td>\n",
       "      <td>24.0</td>\n",
       "    </tr>\n",
       "    <tr>\n",
       "      <th>13</th>\n",
       "      <td>7.2</td>\n",
       "      <td>113</td>\n",
       "      <td>65</td>\n",
       "      <td>21.0</td>\n",
       "    </tr>\n",
       "    <tr>\n",
       "      <th>14</th>\n",
       "      <td>2.2</td>\n",
       "      <td>56</td>\n",
       "      <td>57</td>\n",
       "      <td>11.3</td>\n",
       "    </tr>\n",
       "    <tr>\n",
       "      <th>15</th>\n",
       "      <td>6.0</td>\n",
       "      <td>115</td>\n",
       "      <td>66</td>\n",
       "      <td>18.0</td>\n",
       "    </tr>\n",
       "    <tr>\n",
       "      <th>16</th>\n",
       "      <td>9.7</td>\n",
       "      <td>109</td>\n",
       "      <td>52</td>\n",
       "      <td>16.3</td>\n",
       "    </tr>\n",
       "    <tr>\n",
       "      <th>17</th>\n",
       "      <td>15.4</td>\n",
       "      <td>249</td>\n",
       "      <td>66</td>\n",
       "      <td>22.2</td>\n",
       "    </tr>\n",
       "    <tr>\n",
       "      <th>18</th>\n",
       "      <td>2.1</td>\n",
       "      <td>83</td>\n",
       "      <td>51</td>\n",
       "      <td>7.8</td>\n",
       "    </tr>\n",
       "    <tr>\n",
       "      <th>19</th>\n",
       "      <td>11.3</td>\n",
       "      <td>300</td>\n",
       "      <td>67</td>\n",
       "      <td>27.8</td>\n",
       "    </tr>\n",
       "    <tr>\n",
       "      <th>20</th>\n",
       "      <td>4.4</td>\n",
       "      <td>149</td>\n",
       "      <td>85</td>\n",
       "      <td>16.3</td>\n",
       "    </tr>\n",
       "    <tr>\n",
       "      <th>21</th>\n",
       "      <td>12.1</td>\n",
       "      <td>255</td>\n",
       "      <td>74</td>\n",
       "      <td>35.1</td>\n",
       "    </tr>\n",
       "    <tr>\n",
       "      <th>22</th>\n",
       "      <td>2.7</td>\n",
       "      <td>72</td>\n",
       "      <td>66</td>\n",
       "      <td>14.9</td>\n",
       "    </tr>\n",
       "    <tr>\n",
       "      <th>23</th>\n",
       "      <td>16.1</td>\n",
       "      <td>259</td>\n",
       "      <td>44</td>\n",
       "      <td>17.1</td>\n",
       "    </tr>\n",
       "    <tr>\n",
       "      <th>24</th>\n",
       "      <td>9.0</td>\n",
       "      <td>178</td>\n",
       "      <td>70</td>\n",
       "      <td>28.2</td>\n",
       "    </tr>\n",
       "    <tr>\n",
       "      <th>25</th>\n",
       "      <td>6.0</td>\n",
       "      <td>109</td>\n",
       "      <td>53</td>\n",
       "      <td>16.4</td>\n",
       "    </tr>\n",
       "    <tr>\n",
       "      <th>26</th>\n",
       "      <td>4.3</td>\n",
       "      <td>102</td>\n",
       "      <td>62</td>\n",
       "      <td>16.5</td>\n",
       "    </tr>\n",
       "    <tr>\n",
       "      <th>27</th>\n",
       "      <td>12.2</td>\n",
       "      <td>252</td>\n",
       "      <td>81</td>\n",
       "      <td>46.0</td>\n",
       "    </tr>\n",
       "    <tr>\n",
       "      <th>28</th>\n",
       "      <td>2.1</td>\n",
       "      <td>57</td>\n",
       "      <td>56</td>\n",
       "      <td>9.5</td>\n",
       "    </tr>\n",
       "    <tr>\n",
       "      <th>29</th>\n",
       "      <td>7.4</td>\n",
       "      <td>159</td>\n",
       "      <td>89</td>\n",
       "      <td>18.8</td>\n",
       "    </tr>\n",
       "    <tr>\n",
       "      <th>30</th>\n",
       "      <td>11.4</td>\n",
       "      <td>285</td>\n",
       "      <td>70</td>\n",
       "      <td>32.1</td>\n",
       "    </tr>\n",
       "    <tr>\n",
       "      <th>31</th>\n",
       "      <td>11.1</td>\n",
       "      <td>254</td>\n",
       "      <td>86</td>\n",
       "      <td>26.1</td>\n",
       "    </tr>\n",
       "    <tr>\n",
       "      <th>32</th>\n",
       "      <td>13.0</td>\n",
       "      <td>337</td>\n",
       "      <td>45</td>\n",
       "      <td>16.1</td>\n",
       "    </tr>\n",
       "    <tr>\n",
       "      <th>33</th>\n",
       "      <td>0.8</td>\n",
       "      <td>45</td>\n",
       "      <td>44</td>\n",
       "      <td>7.3</td>\n",
       "    </tr>\n",
       "    <tr>\n",
       "      <th>34</th>\n",
       "      <td>7.3</td>\n",
       "      <td>120</td>\n",
       "      <td>75</td>\n",
       "      <td>21.4</td>\n",
       "    </tr>\n",
       "    <tr>\n",
       "      <th>35</th>\n",
       "      <td>6.6</td>\n",
       "      <td>151</td>\n",
       "      <td>68</td>\n",
       "      <td>20.0</td>\n",
       "    </tr>\n",
       "    <tr>\n",
       "      <th>36</th>\n",
       "      <td>4.9</td>\n",
       "      <td>159</td>\n",
       "      <td>67</td>\n",
       "      <td>29.3</td>\n",
       "    </tr>\n",
       "    <tr>\n",
       "      <th>37</th>\n",
       "      <td>6.3</td>\n",
       "      <td>106</td>\n",
       "      <td>72</td>\n",
       "      <td>14.9</td>\n",
       "    </tr>\n",
       "    <tr>\n",
       "      <th>38</th>\n",
       "      <td>3.4</td>\n",
       "      <td>174</td>\n",
       "      <td>87</td>\n",
       "      <td>8.3</td>\n",
       "    </tr>\n",
       "    <tr>\n",
       "      <th>39</th>\n",
       "      <td>14.4</td>\n",
       "      <td>279</td>\n",
       "      <td>48</td>\n",
       "      <td>22.5</td>\n",
       "    </tr>\n",
       "    <tr>\n",
       "      <th>40</th>\n",
       "      <td>3.8</td>\n",
       "      <td>86</td>\n",
       "      <td>45</td>\n",
       "      <td>12.8</td>\n",
       "    </tr>\n",
       "    <tr>\n",
       "      <th>41</th>\n",
       "      <td>13.2</td>\n",
       "      <td>188</td>\n",
       "      <td>59</td>\n",
       "      <td>26.9</td>\n",
       "    </tr>\n",
       "    <tr>\n",
       "      <th>42</th>\n",
       "      <td>12.7</td>\n",
       "      <td>201</td>\n",
       "      <td>80</td>\n",
       "      <td>25.5</td>\n",
       "    </tr>\n",
       "    <tr>\n",
       "      <th>43</th>\n",
       "      <td>3.2</td>\n",
       "      <td>120</td>\n",
       "      <td>80</td>\n",
       "      <td>22.9</td>\n",
       "    </tr>\n",
       "    <tr>\n",
       "      <th>44</th>\n",
       "      <td>2.2</td>\n",
       "      <td>48</td>\n",
       "      <td>32</td>\n",
       "      <td>11.2</td>\n",
       "    </tr>\n",
       "    <tr>\n",
       "      <th>45</th>\n",
       "      <td>8.5</td>\n",
       "      <td>156</td>\n",
       "      <td>63</td>\n",
       "      <td>20.7</td>\n",
       "    </tr>\n",
       "    <tr>\n",
       "      <th>46</th>\n",
       "      <td>4.0</td>\n",
       "      <td>145</td>\n",
       "      <td>73</td>\n",
       "      <td>26.2</td>\n",
       "    </tr>\n",
       "    <tr>\n",
       "      <th>47</th>\n",
       "      <td>5.7</td>\n",
       "      <td>81</td>\n",
       "      <td>39</td>\n",
       "      <td>9.3</td>\n",
       "    </tr>\n",
       "    <tr>\n",
       "      <th>48</th>\n",
       "      <td>2.6</td>\n",
       "      <td>53</td>\n",
       "      <td>66</td>\n",
       "      <td>10.8</td>\n",
       "    </tr>\n",
       "    <tr>\n",
       "      <th>49</th>\n",
       "      <td>6.8</td>\n",
       "      <td>161</td>\n",
       "      <td>60</td>\n",
       "      <td>15.6</td>\n",
       "    </tr>\n",
       "  </tbody>\n",
       "</table>\n",
       "</div>"
      ],
      "text/plain": [
       "    Murder  Assault  UrbanPop  Rape\n",
       "0     13.2      236        58  21.2\n",
       "1     10.0      263        48  44.5\n",
       "2      8.1      294        80  31.0\n",
       "3      8.8      190        50  19.5\n",
       "4      9.0      276        91  40.6\n",
       "5      7.9      204        78  38.7\n",
       "6      3.3      110        77  11.1\n",
       "7      5.9      238        72  15.8\n",
       "8     15.4      335        80  31.9\n",
       "9     17.4      211        60  25.8\n",
       "10     5.3       46        83  20.2\n",
       "11     2.6      120        54  14.2\n",
       "12    10.4      249        83  24.0\n",
       "13     7.2      113        65  21.0\n",
       "14     2.2       56        57  11.3\n",
       "15     6.0      115        66  18.0\n",
       "16     9.7      109        52  16.3\n",
       "17    15.4      249        66  22.2\n",
       "18     2.1       83        51   7.8\n",
       "19    11.3      300        67  27.8\n",
       "20     4.4      149        85  16.3\n",
       "21    12.1      255        74  35.1\n",
       "22     2.7       72        66  14.9\n",
       "23    16.1      259        44  17.1\n",
       "24     9.0      178        70  28.2\n",
       "25     6.0      109        53  16.4\n",
       "26     4.3      102        62  16.5\n",
       "27    12.2      252        81  46.0\n",
       "28     2.1       57        56   9.5\n",
       "29     7.4      159        89  18.8\n",
       "30    11.4      285        70  32.1\n",
       "31    11.1      254        86  26.1\n",
       "32    13.0      337        45  16.1\n",
       "33     0.8       45        44   7.3\n",
       "34     7.3      120        75  21.4\n",
       "35     6.6      151        68  20.0\n",
       "36     4.9      159        67  29.3\n",
       "37     6.3      106        72  14.9\n",
       "38     3.4      174        87   8.3\n",
       "39    14.4      279        48  22.5\n",
       "40     3.8       86        45  12.8\n",
       "41    13.2      188        59  26.9\n",
       "42    12.7      201        80  25.5\n",
       "43     3.2      120        80  22.9\n",
       "44     2.2       48        32  11.2\n",
       "45     8.5      156        63  20.7\n",
       "46     4.0      145        73  26.2\n",
       "47     5.7       81        39   9.3\n",
       "48     2.6       53        66  10.8\n",
       "49     6.8      161        60  15.6"
      ]
     },
     "execution_count": 52,
     "metadata": {},
     "output_type": "execute_result"
    }
   ],
   "source": [
    "x = Data.iloc[:,1:5]\n",
    "x"
   ]
  },
  {
   "cell_type": "code",
   "execution_count": 53,
   "metadata": {},
   "outputs": [
    {
     "data": {
      "text/plain": [
       "<seaborn.axisgrid.PairGrid at 0x1dd38216580>"
      ]
     },
     "execution_count": 53,
     "metadata": {},
     "output_type": "execute_result"
    },
    {
     "data": {
      "image/png": "[encoded data removed]",
      "text/plain": [
       "<Figure size 720x720 with 20 Axes>"
      ]
     },
     "metadata": {
      "needs_background": "light"
     },
     "output_type": "display_data"
    }
   ],
   "source": [
    "# Pairplots\n",
    "sns.pairplot(x)"
   ]
  },
  {
   "cell_type": "code",
   "execution_count": 54,
   "metadata": {},
   "outputs": [
    {
     "data": {
      "text/html": [
       "<div>\n",
       "<style scoped>\n",
       "    .dataframe tbody tr th:only-of-type {\n",
       "        vertical-align: middle;\n",
       "    }\n",
       "\n",
       "    .dataframe tbody tr th {\n",
       "        vertical-align: top;\n",
       "    }\n",
       "\n",
       "    .dataframe thead th {\n",
       "        text-align: right;\n",
       "    }\n",
       "</style>\n",
       "<table border=\"1\" class=\"dataframe\">\n",
       "  <thead>\n",
       "    <tr style=\"text-align: right;\">\n",
       "      <th></th>\n",
       "      <th>Murder</th>\n",
       "      <th>Assault</th>\n",
       "      <th>UrbanPop</th>\n",
       "      <th>Rape</th>\n",
       "    </tr>\n",
       "  </thead>\n",
       "  <tbody>\n",
       "    <tr>\n",
       "      <th>0</th>\n",
       "      <td>0.054031</td>\n",
       "      <td>0.966016</td>\n",
       "      <td>0.237411</td>\n",
       "      <td>0.086778</td>\n",
       "    </tr>\n",
       "    <tr>\n",
       "      <th>1</th>\n",
       "      <td>0.036872</td>\n",
       "      <td>0.969739</td>\n",
       "      <td>0.176987</td>\n",
       "      <td>0.164081</td>\n",
       "    </tr>\n",
       "    <tr>\n",
       "      <th>2</th>\n",
       "      <td>0.026439</td>\n",
       "      <td>0.959624</td>\n",
       "      <td>0.261122</td>\n",
       "      <td>0.101185</td>\n",
       "    </tr>\n",
       "    <tr>\n",
       "      <th>3</th>\n",
       "      <td>0.044528</td>\n",
       "      <td>0.961392</td>\n",
       "      <td>0.252998</td>\n",
       "      <td>0.098669</td>\n",
       "    </tr>\n",
       "    <tr>\n",
       "      <th>4</th>\n",
       "      <td>0.030657</td>\n",
       "      <td>0.940134</td>\n",
       "      <td>0.309972</td>\n",
       "      <td>0.138295</td>\n",
       "    </tr>\n",
       "  </tbody>\n",
       "</table>\n",
       "</div>"
      ],
      "text/plain": [
       "     Murder   Assault  UrbanPop      Rape\n",
       "0  0.054031  0.966016  0.237411  0.086778\n",
       "1  0.036872  0.969739  0.176987  0.164081\n",
       "2  0.026439  0.959624  0.261122  0.101185\n",
       "3  0.044528  0.961392  0.252998  0.098669\n",
       "4  0.030657  0.940134  0.309972  0.138295"
      ]
     },
     "execution_count": 54,
     "metadata": {},
     "output_type": "execute_result"
    }
   ],
   "source": [
    "# Normalising data\n",
    "from sklearn.preprocessing import Normalizer\n",
    "x =pd.DataFrame(Normalizer().fit_transform(x),columns=x.columns,index=x.index)\n",
    "x.head()"
   ]
  },
  {
   "cell_type": "code",
   "execution_count": 55,
   "metadata": {},
   "outputs": [
    {
     "name": "stdout",
     "output_type": "stream",
     "text": [
      "      Murder   Assault  UrbanPop      Rape\n",
      "0   0.054031  0.966016  0.237411  0.086778\n",
      "1   0.036872  0.969739  0.176987  0.164081\n",
      "2   0.026439  0.959624  0.261122  0.101185\n",
      "3   0.044528  0.961392  0.252998  0.098669\n",
      "4   0.030657  0.940134  0.309972  0.138295\n",
      "5   0.035594  0.919142  0.351437  0.174367\n",
      "6   0.024486  0.816202  0.571341  0.082362\n",
      "7   0.023674  0.954965  0.288897  0.063397\n",
      "8   0.044478  0.967547  0.231056  0.092134\n",
      "9   0.078534  0.952332  0.270805  0.116446\n",
      "10  0.054546  0.473419  0.854213  0.207893\n",
      "11  0.019640  0.906483  0.407917  0.107267\n",
      "12  0.039428  0.944007  0.314669  0.090989\n",
      "13  0.054447  0.854521  0.491539  0.158805\n",
      "14  0.027251  0.693660  0.706047  0.139971\n",
      "15  0.044795  0.858568  0.492743  0.134385\n",
      "16  0.079346  0.891624  0.425362  0.133335\n",
      "17  0.059457  0.961347  0.254815  0.085710\n",
      "18  0.021483  0.849097  0.521734  0.079795\n",
      "19  0.036587  0.971339  0.216932  0.090011\n",
      "20  0.025527  0.864425  0.493128  0.094565\n",
      "21  0.045132  0.951126  0.276013  0.130920\n",
      "22  0.027317  0.728452  0.667747  0.150749\n",
      "23  0.061041  0.981958  0.166819  0.064832\n",
      "24  0.046500  0.919676  0.361670  0.145701\n",
      "25  0.048998  0.890131  0.432816  0.133928\n",
      "26  0.035662  0.845935  0.514196  0.136842\n",
      "27  0.045363  0.937005  0.301180  0.171041\n",
      "28  0.026088  0.708107  0.695684  0.118018\n",
      "29  0.040364  0.867284  0.485461  0.102547\n",
      "30  0.038586  0.964660  0.236934  0.108651\n",
      "31  0.041163  0.941927  0.318920  0.096789\n",
      "32  0.038166  0.989371  0.132112  0.047267\n",
      "33  0.012626  0.710188  0.694406  0.115208\n",
      "34  0.050940  0.837376  0.523360  0.149332\n",
      "35  0.039535  0.904523  0.407335  0.119804\n",
      "36  0.027987  0.908164  0.382685  0.167353\n",
      "37  0.048778  0.820702  0.557458  0.115363\n",
      "38  0.017459  0.893478  0.446739  0.042620\n",
      "39  0.050641  0.981163  0.168802  0.079126\n",
      "40  0.038785  0.877767  0.459297  0.130644\n",
      "41  0.066230  0.943274  0.296027  0.134968\n",
      "42  0.058203  0.921161  0.366631  0.116864\n",
      "43  0.021908  0.821558  0.547706  0.156781\n",
      "44  0.037410  0.816227  0.544152  0.190453\n",
      "45  0.050082  0.919147  0.371194  0.121964\n",
      "46  0.024318  0.881521  0.443800  0.159282\n",
      "47  0.062942  0.894442  0.430657  0.102695\n",
      "48  0.030455  0.620812  0.773086  0.126505\n",
      "49  0.039384  0.932482  0.347509  0.090352\n"
     ]
    }
   ],
   "source": [
    "print(x)"
   ]
  },
  {
   "cell_type": "markdown",
   "metadata": {},
   "source": [
    "## KMeans Clustering"
   ]
  },
  {
   "cell_type": "code",
   "execution_count": 56,
   "metadata": {
    "colab": {
     "base_uri": "https://localhost:8080/",
     "height": 480
    },
    "id": "OybUsLFPx6sR",
    "outputId": "81119882-4348-4edc-b464-4d7eadf7e288",
    "scrolled": true
   },
   "outputs": [
    {
     "name": "stdout",
     "output_type": "stream",
     "text": [
      "1.9452076233849003\n",
      "0.7540963759591796\n",
      "0.3278478050693132\n",
      "0.22760245765174864\n",
      "0.16395152491640724\n",
      "0.12189729452276522\n",
      "0.09933221098477706\n",
      "0.08953343092362383\n",
      "0.07539079931297346\n",
      "0.06595521557123925\n"
     ]
    },
    {
     "data": {
      "image/png": "[encoded data removed]",
      "text/plain": [
       "<Figure size 432x288 with 1 Axes>"
      ]
     },
     "metadata": {
      "needs_background": "light"
     },
     "output_type": "display_data"
    }
   ],
   "source": [
    "#Using elbow method to find the optimum number of clusters\n",
    "from sklearn.cluster import KMeans\n",
    "wcss = []\n",
    "for i in range(1,11):\n",
    "    kmeans = KMeans (n_clusters = i, init = 'k-means++', random_state = 42)\n",
    "    kmeans.fit(x)\n",
    "    wcss.append(kmeans.inertia_)\n",
    "    print(kmeans.inertia_)\n",
    "plt.plot(range(1,11), wcss)\n",
    "plt.title(\"The elbow method\")\n",
    "plt.xlabel(\"Number of clusters\")\n",
    "plt.ylabel(\"wcss\")\n",
    "plt.show()  "
   ]
  },
  {
   "cell_type": "code",
   "execution_count": 57,
   "metadata": {
    "colab": {
     "base_uri": "https://localhost:8080/"
    },
    "id": "orqfxhK9yTpH",
    "outputId": "1008a8c1-0255-49a1-f657-048d18e75e33"
   },
   "outputs": [
    {
     "name": "stdout",
     "output_type": "stream",
     "text": [
      "[0 0 0 0 0 0 2 0 0 0 1 2 0 2 1 2 2 0 2 0 2 0 1 0 0 2 2 0 1 2 0 0 0 1 2 2 2\n",
      " 2 2 0 2 0 0 2 2 0 2 2 1 0]\n"
     ]
    }
   ],
   "source": [
    "# From the above plot our optimum number of clusters is 3\n",
    "# Lets build the model\n",
    "model_kmeans = KMeans(n_clusters=3)\n",
    "model_kmeans.fit(x)\n",
    "labels = model_kmeans.predict(x)\n",
    "print(labels)"
   ]
  },
  {
   "cell_type": "code",
   "execution_count": 58,
   "metadata": {},
   "outputs": [
    {
     "data": {
      "text/html": [
       "<div>\n",
       "<style scoped>\n",
       "    .dataframe tbody tr th:only-of-type {\n",
       "        vertical-align: middle;\n",
       "    }\n",
       "\n",
       "    .dataframe tbody tr th {\n",
       "        vertical-align: top;\n",
       "    }\n",
       "\n",
       "    .dataframe thead th {\n",
       "        text-align: right;\n",
       "    }\n",
       "</style>\n",
       "<table border=\"1\" class=\"dataframe\">\n",
       "  <thead>\n",
       "    <tr style=\"text-align: right;\">\n",
       "      <th></th>\n",
       "      <th>State</th>\n",
       "      <th>Murder</th>\n",
       "      <th>Assault</th>\n",
       "      <th>UrbanPop</th>\n",
       "      <th>Rape</th>\n",
       "      <th>Crime Cluster</th>\n",
       "    </tr>\n",
       "  </thead>\n",
       "  <tbody>\n",
       "    <tr>\n",
       "      <th>0</th>\n",
       "      <td>Alabama</td>\n",
       "      <td>13.2</td>\n",
       "      <td>236</td>\n",
       "      <td>58</td>\n",
       "      <td>21.2</td>\n",
       "      <td>0</td>\n",
       "    </tr>\n",
       "    <tr>\n",
       "      <th>1</th>\n",
       "      <td>Alaska</td>\n",
       "      <td>10.0</td>\n",
       "      <td>263</td>\n",
       "      <td>48</td>\n",
       "      <td>44.5</td>\n",
       "      <td>0</td>\n",
       "    </tr>\n",
       "    <tr>\n",
       "      <th>2</th>\n",
       "      <td>Arizona</td>\n",
       "      <td>8.1</td>\n",
       "      <td>294</td>\n",
       "      <td>80</td>\n",
       "      <td>31.0</td>\n",
       "      <td>0</td>\n",
       "    </tr>\n",
       "    <tr>\n",
       "      <th>3</th>\n",
       "      <td>Arkansas</td>\n",
       "      <td>8.8</td>\n",
       "      <td>190</td>\n",
       "      <td>50</td>\n",
       "      <td>19.5</td>\n",
       "      <td>0</td>\n",
       "    </tr>\n",
       "    <tr>\n",
       "      <th>4</th>\n",
       "      <td>California</td>\n",
       "      <td>9.0</td>\n",
       "      <td>276</td>\n",
       "      <td>91</td>\n",
       "      <td>40.6</td>\n",
       "      <td>0</td>\n",
       "    </tr>\n",
       "  </tbody>\n",
       "</table>\n",
       "</div>"
      ],
      "text/plain": [
       "        State  Murder  Assault  UrbanPop  Rape  Crime Cluster\n",
       "0     Alabama    13.2      236        58  21.2              0\n",
       "1      Alaska    10.0      263        48  44.5              0\n",
       "2     Arizona     8.1      294        80  31.0              0\n",
       "3    Arkansas     8.8      190        50  19.5              0\n",
       "4  California     9.0      276        91  40.6              0"
      ]
     },
     "execution_count": 58,
     "metadata": {},
     "output_type": "execute_result"
    }
   ],
   "source": [
    "df = Data.copy()\n",
    "df['Crime Cluster']=labels        \n",
    "df.head()"
   ]
  },
  {
   "cell_type": "markdown",
   "metadata": {},
   "source": [
    "## 1. Kmeans for identifying the similar kind of states in crime"
   ]
  },
  {
   "cell_type": "code",
   "execution_count": 59,
   "metadata": {},
   "outputs": [
    {
     "data": {
      "image/png": "[encoded data removed]",
      "text/plain": [
       "<Figure size 432x288 with 1 Axes>"
      ]
     },
     "metadata": {
      "needs_background": "light"
     },
     "output_type": "display_data"
    }
   ],
   "source": [
    "# Plotting the number of states in each cluster\n",
    "cluster1 = df.groupby('Crime Cluster')['State'].count().plot(kind = 'bar')\n",
    "plt.ylabel(\"No. of states\")\n",
    "plt.show()"
   ]
  },
  {
   "cell_type": "code",
   "execution_count": 60,
   "metadata": {},
   "outputs": [
    {
     "name": "stdout",
     "output_type": "stream",
     "text": [
      "Similar kind of states in the first crime cluster are  : ['Alabama' 'Alaska' 'Arizona' 'Arkansas' 'California' 'Colorado'\n",
      " 'Delaware' 'Florida' 'Georgia' 'Illinois' 'Louisiana' 'Maryland'\n",
      " 'Michigan' 'Mississippi' 'Missouri' 'Nevada' 'New Mexico' 'New York'\n",
      " 'North Carolina' 'South Carolina' 'Tennessee' 'Texas' 'Virginia'\n",
      " 'Wyoming']\n"
     ]
    }
   ],
   "source": [
    "# Since, we have 3 clusters we have to find out similar kind of states under each cluster.\n",
    "cluster1 = df.groupby('Crime Cluster')['State'].unique()[0]\n",
    "print('Similar kind of states in the first crime cluster are  :',cluster1)"
   ]
  },
  {
   "cell_type": "code",
   "execution_count": 61,
   "metadata": {},
   "outputs": [
    {
     "name": "stdout",
     "output_type": "stream",
     "text": [
      "Similar kind of states in the second crime cluster are  : ['Hawaii' 'Iowa' 'Minnesota' 'New Hampshire' 'North Dakota' 'Wisconsin']\n"
     ]
    }
   ],
   "source": [
    "cluster2 = df.groupby('Crime Cluster')['State'].unique()[1]\n",
    "print('Similar kind of states in the second crime cluster are  :',cluster2)"
   ]
  },
  {
   "cell_type": "code",
   "execution_count": 62,
   "metadata": {},
   "outputs": [
    {
     "name": "stdout",
     "output_type": "stream",
     "text": [
      "Similar kind of states in the third crime cluster are  : ['Connecticut' 'Idaho' 'Indiana' 'Kansas' 'Kentucky' 'Maine'\n",
      " 'Massachusetts' 'Montana' 'Nebraska' 'New Jersey' 'Ohio' 'Oklahoma'\n",
      " 'Oregon' 'Pennsylvania' 'Rhode Island' 'South Dakota' 'Utah' 'Vermont'\n",
      " 'Washington' 'West Virginia']\n"
     ]
    }
   ],
   "source": [
    "cluster3 = df.groupby('Crime Cluster')['State'].unique()[2]\n",
    "print('Similar kind of states in the third crime cluster are  :',cluster3)"
   ]
  },
  {
   "cell_type": "markdown",
   "metadata": {},
   "source": [
    "## 2) Hierarchial Clustering "
   ]
  },
  {
   "cell_type": "code",
   "execution_count": 63,
   "metadata": {},
   "outputs": [
    {
     "data": {
      "image/png": "[encoded data removed]",
      "text/plain": [
       "<Figure size 1008x576 with 1 Axes>"
      ]
     },
     "metadata": {
      "needs_background": "light"
     },
     "output_type": "display_data"
    }
   ],
   "source": [
    "#Agglomerative HC\n",
    "# Finding optinum number of number of clusters using dendrograms\n",
    "import scipy.cluster.hierarchy as sch\n",
    "plt.figure(figsize=(14,8))\n",
    "dendrogram = sch.dendrogram(sch.linkage(x, method = 'ward'))\n",
    "plt.title('Dendrogram')\n",
    "plt.xlabel('Clusters')\n",
    "plt.ylabel('Eucleidiean distances')\n",
    "plt.show()"
   ]
  },
  {
   "cell_type": "code",
   "execution_count": 64,
   "metadata": {},
   "outputs": [
    {
     "data": {
      "text/plain": [
       "array([2, 2, 2, 2, 2, 0, 0, 2, 2, 2, 1, 0, 2, 0, 1, 0, 0, 2, 0, 2, 0, 2,\n",
       "       1, 2, 0, 0, 0, 2, 1, 0, 2, 2, 2, 1, 0, 0, 0, 0, 0, 2, 0, 2, 0, 0,\n",
       "       0, 0, 0, 0, 1, 2], dtype=int64)"
      ]
     },
     "execution_count": 64,
     "metadata": {},
     "output_type": "execute_result"
    }
   ],
   "source": [
    "# Optinum number of clusters is 3\n",
    "# model building\n",
    "from sklearn.cluster import AgglomerativeClustering\n",
    "cluster=AgglomerativeClustering(n_clusters=3,affinity='euclidean', linkage='ward')\n",
    "Labels2 = cluster.fit_predict(x)\n",
    "Labels2"
   ]
  },
  {
   "cell_type": "code",
   "execution_count": 65,
   "metadata": {},
   "outputs": [
    {
     "data": {
      "text/html": [
       "<div>\n",
       "<style scoped>\n",
       "    .dataframe tbody tr th:only-of-type {\n",
       "        vertical-align: middle;\n",
       "    }\n",
       "\n",
       "    .dataframe tbody tr th {\n",
       "        vertical-align: top;\n",
       "    }\n",
       "\n",
       "    .dataframe thead th {\n",
       "        text-align: right;\n",
       "    }\n",
       "</style>\n",
       "<table border=\"1\" class=\"dataframe\">\n",
       "  <thead>\n",
       "    <tr style=\"text-align: right;\">\n",
       "      <th></th>\n",
       "      <th>State</th>\n",
       "      <th>Murder</th>\n",
       "      <th>Assault</th>\n",
       "      <th>UrbanPop</th>\n",
       "      <th>Rape</th>\n",
       "      <th>Crime Cluster</th>\n",
       "      <th>Crime cluster HC</th>\n",
       "    </tr>\n",
       "  </thead>\n",
       "  <tbody>\n",
       "    <tr>\n",
       "      <th>0</th>\n",
       "      <td>Alabama</td>\n",
       "      <td>13.2</td>\n",
       "      <td>236</td>\n",
       "      <td>58</td>\n",
       "      <td>21.2</td>\n",
       "      <td>0</td>\n",
       "      <td>2</td>\n",
       "    </tr>\n",
       "    <tr>\n",
       "      <th>1</th>\n",
       "      <td>Alaska</td>\n",
       "      <td>10.0</td>\n",
       "      <td>263</td>\n",
       "      <td>48</td>\n",
       "      <td>44.5</td>\n",
       "      <td>0</td>\n",
       "      <td>2</td>\n",
       "    </tr>\n",
       "    <tr>\n",
       "      <th>2</th>\n",
       "      <td>Arizona</td>\n",
       "      <td>8.1</td>\n",
       "      <td>294</td>\n",
       "      <td>80</td>\n",
       "      <td>31.0</td>\n",
       "      <td>0</td>\n",
       "      <td>2</td>\n",
       "    </tr>\n",
       "    <tr>\n",
       "      <th>3</th>\n",
       "      <td>Arkansas</td>\n",
       "      <td>8.8</td>\n",
       "      <td>190</td>\n",
       "      <td>50</td>\n",
       "      <td>19.5</td>\n",
       "      <td>0</td>\n",
       "      <td>2</td>\n",
       "    </tr>\n",
       "    <tr>\n",
       "      <th>4</th>\n",
       "      <td>California</td>\n",
       "      <td>9.0</td>\n",
       "      <td>276</td>\n",
       "      <td>91</td>\n",
       "      <td>40.6</td>\n",
       "      <td>0</td>\n",
       "      <td>2</td>\n",
       "    </tr>\n",
       "  </tbody>\n",
       "</table>\n",
       "</div>"
      ],
      "text/plain": [
       "        State  Murder  Assault  UrbanPop  Rape  Crime Cluster  \\\n",
       "0     Alabama    13.2      236        58  21.2              0   \n",
       "1      Alaska    10.0      263        48  44.5              0   \n",
       "2     Arizona     8.1      294        80  31.0              0   \n",
       "3    Arkansas     8.8      190        50  19.5              0   \n",
       "4  California     9.0      276        91  40.6              0   \n",
       "\n",
       "   Crime cluster HC  \n",
       "0                 2  \n",
       "1                 2  \n",
       "2                 2  \n",
       "3                 2  \n",
       "4                 2  "
      ]
     },
     "execution_count": 65,
     "metadata": {},
     "output_type": "execute_result"
    }
   ],
   "source": [
    "df['Crime cluster HC'] = Labels2\n",
    "df.head()"
   ]
  },
  {
   "cell_type": "code",
   "execution_count": 66,
   "metadata": {},
   "outputs": [
    {
     "name": "stdout",
     "output_type": "stream",
     "text": [
      "Similar kind of states in the first crime cluster are  : ['Colorado' 'Connecticut' 'Idaho' 'Indiana' 'Kansas' 'Kentucky' 'Maine'\n",
      " 'Massachusetts' 'Missouri' 'Montana' 'Nebraska' 'New Jersey' 'Ohio'\n",
      " 'Oklahoma' 'Oregon' 'Pennsylvania' 'Rhode Island' 'South Dakota' 'Texas'\n",
      " 'Utah' 'Vermont' 'Virginia' 'Washington' 'West Virginia']\n"
     ]
    }
   ],
   "source": [
    "# Here also we have 3 clusters we have to find out similar kind of states under each cluster.\n",
    "hc1 = df.groupby('Crime cluster HC')['State'].unique()[0]\n",
    "print('Similar kind of states in the first crime cluster are  :',hc1)"
   ]
  },
  {
   "cell_type": "code",
   "execution_count": 67,
   "metadata": {},
   "outputs": [
    {
     "name": "stdout",
     "output_type": "stream",
     "text": [
      "Similar kind of states in the second crime cluster are  : ['Hawaii' 'Iowa' 'Minnesota' 'New Hampshire' 'North Dakota' 'Wisconsin']\n"
     ]
    }
   ],
   "source": [
    "hc2 = df.groupby('Crime cluster HC')['State'].unique()[1]\n",
    "print('Similar kind of states in the second crime cluster are  :',hc2)"
   ]
  },
  {
   "cell_type": "code",
   "execution_count": 68,
   "metadata": {},
   "outputs": [
    {
     "name": "stdout",
     "output_type": "stream",
     "text": [
      "Similar kind of states in the third crime cluster are  : ['Colorado' 'Connecticut' 'Idaho' 'Indiana' 'Kansas' 'Kentucky' 'Maine'\n",
      " 'Massachusetts' 'Missouri' 'Montana' 'Nebraska' 'New Jersey' 'Ohio'\n",
      " 'Oklahoma' 'Oregon' 'Pennsylvania' 'Rhode Island' 'South Dakota' 'Texas'\n",
      " 'Utah' 'Vermont' 'Virginia' 'Washington' 'West Virginia']\n"
     ]
    }
   ],
   "source": [
    "hc3 = df.groupby('Crime cluster HC')['State'].unique()[2]\n",
    "print('Similar kind of states in the third crime cluster are  :',hc1)"
   ]
  },
  {
   "cell_type": "markdown",
   "metadata": {},
   "source": [
    "## 3) PCA"
   ]
  },
  {
   "cell_type": "code",
   "execution_count": 69,
   "metadata": {
    "id": "mg6LoSqA2nXZ"
   },
   "outputs": [],
   "source": [
    "from sklearn.preprocessing import StandardScaler\n",
    "# Create an instance of the class\n",
    "scaler = StandardScaler()\n",
    "\n",
    "# Use the fit transform method to perform the transformation on train data\n",
    "x.loc[:,:] = scaler.fit_transform(x)"
   ]
  },
  {
   "cell_type": "code",
   "execution_count": 70,
   "metadata": {
    "colab": {
     "base_uri": "https://localhost:8080/"
    },
    "id": "dFuQBvZw24pJ",
    "outputId": "f6380a1b-dfe9-469d-dbaa-0bccef4e4b47"
   },
   "outputs": [
    {
     "name": "stdout",
     "output_type": "stream",
     "text": [
      "      Murder   Assault  UrbanPop      Rape\n",
      "0   0.898229  0.837890 -1.042073 -0.922900\n",
      "1  -0.255938  0.874891 -1.407689  1.268035\n",
      "2  -0.957724  0.774367 -0.898599 -0.514574\n",
      "3   0.258983  0.791936 -0.947758 -0.585873\n",
      "4  -0.674017  0.580679 -0.603018  0.537204\n",
      "5  -0.341898  0.372057 -0.352121  1.559541\n",
      "6  -1.089057 -0.650958  0.978486 -1.048043\n",
      "7  -1.143711  0.728072 -0.730537 -1.585558\n",
      "8   0.255663  0.853103 -1.080524 -0.771105\n",
      "9   2.546302  0.701906 -0.840007 -0.082033\n",
      "10  0.932851 -4.057535  2.690093  2.509737\n",
      "11 -1.414983  0.246254 -0.010366 -0.342189\n",
      "12 -0.084001  0.619171 -0.574595 -0.803553\n",
      "13  0.926208 -0.270144  0.495613  1.118489\n",
      "14 -0.903087 -1.868783  1.793564  0.584692\n",
      "15  0.276957 -0.229929  0.502901  0.426370\n",
      "16  2.600971  0.098585  0.095188  0.396613\n",
      "17  1.263154  0.791492 -0.936763 -0.953148\n",
      "18 -1.291039 -0.324053  0.678320 -1.120814\n",
      "19 -0.275113  0.890795 -1.165983 -0.831268\n",
      "20 -1.019066 -0.171719  0.505231 -0.702204\n",
      "21  0.299625  0.689913 -0.808497  0.328169\n",
      "22 -0.898646 -1.523021  1.561822  0.890173\n",
      "23  1.369688  0.996328 -1.469210 -1.544884\n",
      "24  0.391681  0.377363 -0.290199  0.747114\n",
      "25  0.559673  0.083746  0.140291  0.413430\n",
      "26 -0.337342 -0.355476  0.632706  0.496030\n",
      "27  0.315168  0.549579 -0.656215  1.465274\n",
      "28 -0.981298 -1.725209  1.730861 -0.037495\n",
      "29 -0.021059 -0.143301  0.458839 -0.475971\n",
      "30 -0.140637  0.824414 -1.044957 -0.302964\n",
      "31  0.032670  0.598501 -0.548871 -0.639171\n",
      "32 -0.168936  1.069999 -1.679218 -2.042718\n",
      "33 -1.886821 -1.704523  1.723131 -0.117120\n",
      "34  0.690321 -0.440528  0.688159  0.850014\n",
      "35 -0.076801  0.226777 -0.013890  0.013141\n",
      "36 -0.853547  0.262957 -0.163040  1.360774\n",
      "37  0.544846 -0.606234  0.894481 -0.112740\n",
      "38 -1.561729  0.117011  0.224538 -2.174417\n",
      "39  0.670160  0.988422 -1.457211 -1.139763\n",
      "40 -0.127275 -0.039128  0.300521  0.320367\n",
      "41  1.718724  0.611878 -0.687393  0.442918\n",
      "42  1.178800  0.392121 -0.260182 -0.070205\n",
      "43 -1.262449 -0.597726  0.835470  1.061123\n",
      "44 -0.219736 -0.650706  0.813965  2.015462\n",
      "45  0.632566  0.372111 -0.232572  0.074342\n",
      "46 -1.100374 -0.001818  0.206756  1.132006\n",
      "47  1.497591  0.126590  0.127229 -0.471767\n",
      "48 -0.687579 -2.592749  2.199208  0.203049\n",
      "49 -0.086965  0.504633 -0.375887 -0.821588\n"
     ]
    }
   ],
   "source": [
    "print(x)"
   ]
  },
  {
   "cell_type": "code",
   "execution_count": 71,
   "metadata": {
    "colab": {
     "base_uri": "https://localhost:8080/",
     "height": 174
    },
    "id": "9evCKBAcypjN",
    "outputId": "e5cd957e-d828-43fa-e174-eb6b4211be10"
   },
   "outputs": [
    {
     "data": {
      "text/html": [
       "<div>\n",
       "<style scoped>\n",
       "    .dataframe tbody tr th:only-of-type {\n",
       "        vertical-align: middle;\n",
       "    }\n",
       "\n",
       "    .dataframe tbody tr th {\n",
       "        vertical-align: top;\n",
       "    }\n",
       "\n",
       "    .dataframe thead th {\n",
       "        text-align: right;\n",
       "    }\n",
       "</style>\n",
       "<table border=\"1\" class=\"dataframe\">\n",
       "  <thead>\n",
       "    <tr style=\"text-align: right;\">\n",
       "      <th></th>\n",
       "      <th>V1</th>\n",
       "      <th>V2</th>\n",
       "      <th>V3</th>\n",
       "      <th>V4</th>\n",
       "    </tr>\n",
       "  </thead>\n",
       "  <tbody>\n",
       "    <tr>\n",
       "      <th>0</th>\n",
       "      <td>-0.241899</td>\n",
       "      <td>-0.812535</td>\n",
       "      <td>-0.527588</td>\n",
       "      <td>-0.054056</td>\n",
       "    </tr>\n",
       "    <tr>\n",
       "      <th>1</th>\n",
       "      <td>-0.625657</td>\n",
       "      <td>0.009008</td>\n",
       "      <td>0.344687</td>\n",
       "      <td>-0.699759</td>\n",
       "    </tr>\n",
       "    <tr>\n",
       "      <th>2</th>\n",
       "      <td>0.628767</td>\n",
       "      <td>0.059068</td>\n",
       "      <td>-0.306278</td>\n",
       "      <td>-0.712290</td>\n",
       "    </tr>\n",
       "    <tr>\n",
       "      <th>3</th>\n",
       "      <td>0.393306</td>\n",
       "      <td>-0.579842</td>\n",
       "      <td>0.713467</td>\n",
       "      <td>-0.007682</td>\n",
       "    </tr>\n",
       "  </tbody>\n",
       "</table>\n",
       "</div>"
      ],
      "text/plain": [
       "         V1        V2        V3        V4\n",
       "0 -0.241899 -0.812535 -0.527588 -0.054056\n",
       "1 -0.625657  0.009008  0.344687 -0.699759\n",
       "2  0.628767  0.059068 -0.306278 -0.712290\n",
       "3  0.393306 -0.579842  0.713467 -0.007682"
      ]
     },
     "execution_count": 71,
     "metadata": {},
     "output_type": "execute_result"
    }
   ],
   "source": [
    "# The loading vectors\n",
    "from sklearn.decomposition import PCA\n",
    "pca_loadings = pd.DataFrame(PCA().fit(x).components_.T, columns=['V1', 'V2', 'V3', 'V4'])\n",
    "pca_loadings"
   ]
  },
  {
   "cell_type": "code",
   "execution_count": 72,
   "metadata": {
    "colab": {
     "base_uri": "https://localhost:8080/",
     "height": 1000
    },
    "id": "d6cH8w9k3a6O",
    "outputId": "5634a7df-cd3c-4187-829d-d604da5298e8"
   },
   "outputs": [
    {
     "data": {
      "text/html": [
       "<div>\n",
       "<style scoped>\n",
       "    .dataframe tbody tr th:only-of-type {\n",
       "        vertical-align: middle;\n",
       "    }\n",
       "\n",
       "    .dataframe tbody tr th {\n",
       "        vertical-align: top;\n",
       "    }\n",
       "\n",
       "    .dataframe thead th {\n",
       "        text-align: right;\n",
       "    }\n",
       "</style>\n",
       "<table border=\"1\" class=\"dataframe\">\n",
       "  <thead>\n",
       "    <tr style=\"text-align: right;\">\n",
       "      <th></th>\n",
       "      <th>PC1</th>\n",
       "      <th>PC2</th>\n",
       "      <th>PC3</th>\n",
       "      <th>PC4</th>\n",
       "    </tr>\n",
       "  </thead>\n",
       "  <tbody>\n",
       "    <tr>\n",
       "      <th>0</th>\n",
       "      <td>-1.759716</td>\n",
       "      <td>-0.248712</td>\n",
       "      <td>-0.524379</td>\n",
       "      <td>0.114471</td>\n",
       "    </tr>\n",
       "    <tr>\n",
       "      <th>1</th>\n",
       "      <td>-0.871853</td>\n",
       "      <td>-0.602569</td>\n",
       "      <td>1.772439</td>\n",
       "      <td>0.394564</td>\n",
       "    </tr>\n",
       "    <tr>\n",
       "      <th>2</th>\n",
       "      <td>-1.020210</td>\n",
       "      <td>1.030453</td>\n",
       "      <td>0.680289</td>\n",
       "      <td>0.153916</td>\n",
       "    </tr>\n",
       "    <tr>\n",
       "      <th>3</th>\n",
       "      <td>-1.384474</td>\n",
       "      <td>0.080433</td>\n",
       "      <td>0.008611</td>\n",
       "      <td>0.111415</td>\n",
       "    </tr>\n",
       "    <tr>\n",
       "      <th>4</th>\n",
       "      <td>-0.368134</td>\n",
       "      <td>0.205781</td>\n",
       "      <td>1.123724</td>\n",
       "      <td>0.055497</td>\n",
       "    </tr>\n",
       "    <tr>\n",
       "      <th>5</th>\n",
       "      <td>0.241899</td>\n",
       "      <td>-0.643930</td>\n",
       "      <td>1.529152</td>\n",
       "      <td>-0.003036</td>\n",
       "    </tr>\n",
       "    <tr>\n",
       "      <th>6</th>\n",
       "      <td>0.873756</td>\n",
       "      <td>1.544530</td>\n",
       "      <td>-0.697236</td>\n",
       "      <td>-0.174531</td>\n",
       "    </tr>\n",
       "    <tr>\n",
       "      <th>7</th>\n",
       "      <td>-1.261808</td>\n",
       "      <td>1.812086</td>\n",
       "      <td>-0.053130</td>\n",
       "      <td>0.084884</td>\n",
       "    </tr>\n",
       "    <tr>\n",
       "      <th>8</th>\n",
       "      <td>-1.578273</td>\n",
       "      <td>0.183244</td>\n",
       "      <td>-0.060047</td>\n",
       "      <td>0.164783</td>\n",
       "    </tr>\n",
       "    <tr>\n",
       "      <th>9</th>\n",
       "      <td>-1.615533</td>\n",
       "      <td>-2.064688</td>\n",
       "      <td>-0.902712</td>\n",
       "      <td>-0.029851</td>\n",
       "    </tr>\n",
       "    <tr>\n",
       "      <th>10</th>\n",
       "      <td>4.991508</td>\n",
       "      <td>-2.090877</td>\n",
       "      <td>-0.924045</td>\n",
       "      <td>0.853464</td>\n",
       "    </tr>\n",
       "    <tr>\n",
       "      <th>11</th>\n",
       "      <td>0.047110</td>\n",
       "      <td>1.349745</td>\n",
       "      <td>0.590444</td>\n",
       "      <td>-0.085818</td>\n",
       "    </tr>\n",
       "    <tr>\n",
       "      <th>12</th>\n",
       "      <td>-1.044398</td>\n",
       "      <td>0.505824</td>\n",
       "      <td>-0.139584</td>\n",
       "      <td>-0.013279</td>\n",
       "    </tr>\n",
       "    <tr>\n",
       "      <th>13</th>\n",
       "      <td>0.696502</td>\n",
       "      <td>-1.374281</td>\n",
       "      <td>0.064438</td>\n",
       "      <td>-0.222644</td>\n",
       "    </tr>\n",
       "    <tr>\n",
       "      <th>14</th>\n",
       "      <td>2.745370</td>\n",
       "      <td>0.483869</td>\n",
       "      <td>-0.299860</td>\n",
       "      <td>0.074487</td>\n",
       "    </tr>\n",
       "    <tr>\n",
       "      <th>15</th>\n",
       "      <td>0.560763</td>\n",
       "      <td>-0.444630</td>\n",
       "      <td>-0.075200</td>\n",
       "      <td>-0.215563</td>\n",
       "    </tr>\n",
       "    <tr>\n",
       "      <th>16</th>\n",
       "      <td>-0.475011</td>\n",
       "      <td>-2.336843</td>\n",
       "      <td>-1.084444</td>\n",
       "      <td>-0.280433</td>\n",
       "    </tr>\n",
       "    <tr>\n",
       "      <th>17</th>\n",
       "      <td>-1.764643</td>\n",
       "      <td>-0.521885</td>\n",
       "      <td>-0.786737</td>\n",
       "      <td>0.052433</td>\n",
       "    </tr>\n",
       "    <tr>\n",
       "      <th>18</th>\n",
       "      <td>0.500729</td>\n",
       "      <td>1.736057</td>\n",
       "      <td>-0.437978</td>\n",
       "      <td>-0.178003</td>\n",
       "    </tr>\n",
       "    <tr>\n",
       "      <th>19</th>\n",
       "      <td>-1.550857</td>\n",
       "      <td>0.644696</td>\n",
       "      <td>0.216225</td>\n",
       "      <td>0.228434</td>\n",
       "    </tr>\n",
       "    <tr>\n",
       "      <th>20</th>\n",
       "      <td>0.395440</td>\n",
       "      <td>1.263490</td>\n",
       "      <td>-0.177283</td>\n",
       "      <td>-0.179228</td>\n",
       "    </tr>\n",
       "    <tr>\n",
       "      <th>21</th>\n",
       "      <td>-0.883413</td>\n",
       "      <td>-0.475283</td>\n",
       "      <td>0.561489</td>\n",
       "      <td>0.074394</td>\n",
       "    </tr>\n",
       "    <tr>\n",
       "      <th>22</th>\n",
       "      <td>2.502403</td>\n",
       "      <td>0.292556</td>\n",
       "      <td>0.105905</td>\n",
       "      <td>-0.004983</td>\n",
       "    </tr>\n",
       "    <tr>\n",
       "      <th>23</th>\n",
       "      <td>-2.486089</td>\n",
       "      <td>-0.294940</td>\n",
       "      <td>-1.031445</td>\n",
       "      <td>0.287140</td>\n",
       "    </tr>\n",
       "    <tr>\n",
       "      <th>24</th>\n",
       "      <td>-0.219470</td>\n",
       "      <td>-0.765204</td>\n",
       "      <td>0.545349</td>\n",
       "      <td>-0.084269</td>\n",
       "    </tr>\n",
       "    <tr>\n",
       "      <th>25</th>\n",
       "      <td>0.063034</td>\n",
       "      <td>-0.685437</td>\n",
       "      <td>-0.014410</td>\n",
       "      <td>-0.191960</td>\n",
       "    </tr>\n",
       "    <tr>\n",
       "      <th>26</th>\n",
       "      <td>0.896925</td>\n",
       "      <td>0.020653</td>\n",
       "      <td>0.215567</td>\n",
       "      <td>-0.187497</td>\n",
       "    </tr>\n",
       "    <tr>\n",
       "      <th>27</th>\n",
       "      <td>-0.256392</td>\n",
       "      <td>-1.139522</td>\n",
       "      <td>1.269562</td>\n",
       "      <td>0.054550</td>\n",
       "    </tr>\n",
       "    <tr>\n",
       "      <th>28</th>\n",
       "      <td>2.390326</td>\n",
       "      <td>0.905777</td>\n",
       "      <td>-0.633813</td>\n",
       "      <td>0.027689</td>\n",
       "    </tr>\n",
       "    <tr>\n",
       "      <th>29</th>\n",
       "      <td>0.196051</td>\n",
       "      <td>0.318911</td>\n",
       "      <td>-0.518406</td>\n",
       "      <td>-0.221755</td>\n",
       "    </tr>\n",
       "    <tr>\n",
       "      <th>30</th>\n",
       "      <td>-1.257973</td>\n",
       "      <td>0.235647</td>\n",
       "      <td>0.462257</td>\n",
       "      <td>0.177351</td>\n",
       "    </tr>\n",
       "    <tr>\n",
       "      <th>31</th>\n",
       "      <td>-0.978862</td>\n",
       "      <td>0.317043</td>\n",
       "      <td>-0.098860</td>\n",
       "      <td>-0.024707</td>\n",
       "    </tr>\n",
       "    <tr>\n",
       "      <th>32</th>\n",
       "      <td>-2.487837</td>\n",
       "      <td>1.232171</td>\n",
       "      <td>-0.485160</td>\n",
       "      <td>0.472172</td>\n",
       "    </tr>\n",
       "    <tr>\n",
       "      <th>33</th>\n",
       "      <td>2.560251</td>\n",
       "      <td>1.687447</td>\n",
       "      <td>-0.203382</td>\n",
       "      <td>0.068281</td>\n",
       "    </tr>\n",
       "    <tr>\n",
       "      <th>34</th>\n",
       "      <td>0.875640</td>\n",
       "      <td>-1.017104</td>\n",
       "      <td>-0.120361</td>\n",
       "      <td>-0.225751</td>\n",
       "    </tr>\n",
       "    <tr>\n",
       "      <th>35</th>\n",
       "      <td>-0.126871</td>\n",
       "      <td>0.056007</td>\n",
       "      <td>0.132316</td>\n",
       "      <td>-0.144745</td>\n",
       "    </tr>\n",
       "    <tr>\n",
       "      <th>36</th>\n",
       "      <td>0.474638</td>\n",
       "      <td>-0.102758</td>\n",
       "      <td>1.561762</td>\n",
       "      <td>-0.032188</td>\n",
       "    </tr>\n",
       "    <tr>\n",
       "      <th>37</th>\n",
       "      <td>0.765576</td>\n",
       "      <td>-0.329962</td>\n",
       "      <td>-0.850812</td>\n",
       "      <td>-0.241499</td>\n",
       "    </tr>\n",
       "    <tr>\n",
       "      <th>38</th>\n",
       "      <td>-0.409458</td>\n",
       "      <td>2.544095</td>\n",
       "      <td>-0.755863</td>\n",
       "      <td>-0.140691</td>\n",
       "    </tr>\n",
       "    <tr>\n",
       "      <th>39</th>\n",
       "      <td>-2.145046</td>\n",
       "      <td>0.039183</td>\n",
       "      <td>-0.379743</td>\n",
       "      <td>0.318828</td>\n",
       "    </tr>\n",
       "    <tr>\n",
       "      <th>40</th>\n",
       "      <td>0.370229</td>\n",
       "      <td>-0.064947</td>\n",
       "      <td>0.190190</td>\n",
       "      <td>-0.182259</td>\n",
       "    </tr>\n",
       "    <tr>\n",
       "      <th>41</th>\n",
       "      <td>-1.056591</td>\n",
       "      <td>-1.688438</td>\n",
       "      <td>-0.169331</td>\n",
       "      <td>-0.034855</td>\n",
       "    </tr>\n",
       "    <tr>\n",
       "      <th>42</th>\n",
       "      <td>-0.721689</td>\n",
       "      <td>-0.928945</td>\n",
       "      <td>-0.457163</td>\n",
       "      <td>-0.152248</td>\n",
       "    </tr>\n",
       "    <tr>\n",
       "      <th>43</th>\n",
       "      <td>1.622019</td>\n",
       "      <td>0.454466</td>\n",
       "      <td>0.961214</td>\n",
       "      <td>-0.116740</td>\n",
       "    </tr>\n",
       "    <tr>\n",
       "      <th>44</th>\n",
       "      <td>1.764761</td>\n",
       "      <td>-0.947888</td>\n",
       "      <td>1.080305</td>\n",
       "      <td>-0.128045</td>\n",
       "    </tr>\n",
       "    <tr>\n",
       "      <th>45</th>\n",
       "      <td>-0.502826</td>\n",
       "      <td>-0.567474</td>\n",
       "      <td>-0.081200</td>\n",
       "      <td>-0.129495</td>\n",
       "    </tr>\n",
       "    <tr>\n",
       "      <th>46</th>\n",
       "      <td>0.842543</td>\n",
       "      <td>0.249905</td>\n",
       "      <td>1.324241</td>\n",
       "      <td>-0.095211</td>\n",
       "    </tr>\n",
       "    <tr>\n",
       "      <th>47</th>\n",
       "      <td>-0.547019</td>\n",
       "      <td>-0.934639</td>\n",
       "      <td>-1.122035</td>\n",
       "      <td>-0.256537</td>\n",
       "    </tr>\n",
       "    <tr>\n",
       "      <th>48</th>\n",
       "      <td>3.251148</td>\n",
       "      <td>0.547493</td>\n",
       "      <td>-1.059630</td>\n",
       "      <td>0.283434</td>\n",
       "    </tr>\n",
       "    <tr>\n",
       "      <th>49</th>\n",
       "      <td>-0.854172</td>\n",
       "      <td>0.529397</td>\n",
       "      <td>-0.251227</td>\n",
       "      <td>-0.074369</td>\n",
       "    </tr>\n",
       "  </tbody>\n",
       "</table>\n",
       "</div>"
      ],
      "text/plain": [
       "         PC1       PC2       PC3       PC4\n",
       "0  -1.759716 -0.248712 -0.524379  0.114471\n",
       "1  -0.871853 -0.602569  1.772439  0.394564\n",
       "2  -1.020210  1.030453  0.680289  0.153916\n",
       "3  -1.384474  0.080433  0.008611  0.111415\n",
       "4  -0.368134  0.205781  1.123724  0.055497\n",
       "5   0.241899 -0.643930  1.529152 -0.003036\n",
       "6   0.873756  1.544530 -0.697236 -0.174531\n",
       "7  -1.261808  1.812086 -0.053130  0.084884\n",
       "8  -1.578273  0.183244 -0.060047  0.164783\n",
       "9  -1.615533 -2.064688 -0.902712 -0.029851\n",
       "10  4.991508 -2.090877 -0.924045  0.853464\n",
       "11  0.047110  1.349745  0.590444 -0.085818\n",
       "12 -1.044398  0.505824 -0.139584 -0.013279\n",
       "13  0.696502 -1.374281  0.064438 -0.222644\n",
       "14  2.745370  0.483869 -0.299860  0.074487\n",
       "15  0.560763 -0.444630 -0.075200 -0.215563\n",
       "16 -0.475011 -2.336843 -1.084444 -0.280433\n",
       "17 -1.764643 -0.521885 -0.786737  0.052433\n",
       "18  0.500729  1.736057 -0.437978 -0.178003\n",
       "19 -1.550857  0.644696  0.216225  0.228434\n",
       "20  0.395440  1.263490 -0.177283 -0.179228\n",
       "21 -0.883413 -0.475283  0.561489  0.074394\n",
       "22  2.502403  0.292556  0.105905 -0.004983\n",
       "23 -2.486089 -0.294940 -1.031445  0.287140\n",
       "24 -0.219470 -0.765204  0.545349 -0.084269\n",
       "25  0.063034 -0.685437 -0.014410 -0.191960\n",
       "26  0.896925  0.020653  0.215567 -0.187497\n",
       "27 -0.256392 -1.139522  1.269562  0.054550\n",
       "28  2.390326  0.905777 -0.633813  0.027689\n",
       "29  0.196051  0.318911 -0.518406 -0.221755\n",
       "30 -1.257973  0.235647  0.462257  0.177351\n",
       "31 -0.978862  0.317043 -0.098860 -0.024707\n",
       "32 -2.487837  1.232171 -0.485160  0.472172\n",
       "33  2.560251  1.687447 -0.203382  0.068281\n",
       "34  0.875640 -1.017104 -0.120361 -0.225751\n",
       "35 -0.126871  0.056007  0.132316 -0.144745\n",
       "36  0.474638 -0.102758  1.561762 -0.032188\n",
       "37  0.765576 -0.329962 -0.850812 -0.241499\n",
       "38 -0.409458  2.544095 -0.755863 -0.140691\n",
       "39 -2.145046  0.039183 -0.379743  0.318828\n",
       "40  0.370229 -0.064947  0.190190 -0.182259\n",
       "41 -1.056591 -1.688438 -0.169331 -0.034855\n",
       "42 -0.721689 -0.928945 -0.457163 -0.152248\n",
       "43  1.622019  0.454466  0.961214 -0.116740\n",
       "44  1.764761 -0.947888  1.080305 -0.128045\n",
       "45 -0.502826 -0.567474 -0.081200 -0.129495\n",
       "46  0.842543  0.249905  1.324241 -0.095211\n",
       "47 -0.547019 -0.934639 -1.122035 -0.256537\n",
       "48  3.251148  0.547493 -1.059630  0.283434\n",
       "49 -0.854172  0.529397 -0.251227 -0.074369"
      ]
     },
     "execution_count": 72,
     "metadata": {},
     "output_type": "execute_result"
    }
   ],
   "source": [
    "# Fit the PCA model and transform X to get the principal components\n",
    "pca = PCA()\n",
    "df_plot = pd.DataFrame(pca.fit_transform(x), columns=['PC1', 'PC2', 'PC3', 'PC4'],)\n",
    "df_plot"
   ]
  },
  {
   "cell_type": "code",
   "execution_count": 73,
   "metadata": {
    "colab": {
     "base_uri": "https://localhost:8080/",
     "height": 174
    },
    "id": "zCYg-25B3sZ3",
    "outputId": "186fddac-d790-40c5-8540-ae1b8b9fb393"
   },
   "outputs": [
    {
     "data": {
      "text/html": [
       "<div>\n",
       "<style scoped>\n",
       "    .dataframe tbody tr th:only-of-type {\n",
       "        vertical-align: middle;\n",
       "    }\n",
       "\n",
       "    .dataframe tbody tr th {\n",
       "        vertical-align: top;\n",
       "    }\n",
       "\n",
       "    .dataframe thead th {\n",
       "        text-align: right;\n",
       "    }\n",
       "</style>\n",
       "<table border=\"1\" class=\"dataframe\">\n",
       "  <thead>\n",
       "    <tr style=\"text-align: right;\">\n",
       "      <th></th>\n",
       "      <th>PC1</th>\n",
       "      <th>PC2</th>\n",
       "      <th>PC3</th>\n",
       "      <th>PC4</th>\n",
       "    </tr>\n",
       "  </thead>\n",
       "  <tbody>\n",
       "    <tr>\n",
       "      <th>PC1</th>\n",
       "      <td>1.0</td>\n",
       "      <td>-0.0</td>\n",
       "      <td>0.0</td>\n",
       "      <td>0.0</td>\n",
       "    </tr>\n",
       "    <tr>\n",
       "      <th>PC2</th>\n",
       "      <td>-0.0</td>\n",
       "      <td>1.0</td>\n",
       "      <td>-0.0</td>\n",
       "      <td>-0.0</td>\n",
       "    </tr>\n",
       "    <tr>\n",
       "      <th>PC3</th>\n",
       "      <td>0.0</td>\n",
       "      <td>-0.0</td>\n",
       "      <td>1.0</td>\n",
       "      <td>0.0</td>\n",
       "    </tr>\n",
       "    <tr>\n",
       "      <th>PC4</th>\n",
       "      <td>0.0</td>\n",
       "      <td>-0.0</td>\n",
       "      <td>0.0</td>\n",
       "      <td>1.0</td>\n",
       "    </tr>\n",
       "  </tbody>\n",
       "</table>\n",
       "</div>"
      ],
      "text/plain": [
       "     PC1  PC2  PC3  PC4\n",
       "PC1  1.0 -0.0  0.0  0.0\n",
       "PC2 -0.0  1.0 -0.0 -0.0\n",
       "PC3  0.0 -0.0  1.0  0.0\n",
       "PC4  0.0 -0.0  0.0  1.0"
      ]
     },
     "execution_count": 73,
     "metadata": {},
     "output_type": "execute_result"
    }
   ],
   "source": [
    "df_plot.corr().round()"
   ]
  },
  {
   "cell_type": "code",
   "execution_count": 74,
   "metadata": {
    "colab": {
     "base_uri": "https://localhost:8080/"
    },
    "id": "Kvevn7S23zex",
    "outputId": "f1ba518c-de68-4488-f82f-df5dbb451a17"
   },
   "outputs": [
    {
     "data": {
      "text/plain": [
       "array([1.54251412, 1.04913745, 0.74466694, 0.21694382])"
      ]
     },
     "execution_count": 74,
     "metadata": {},
     "output_type": "execute_result"
    }
   ],
   "source": [
    "# Standard deviation of the four principal components\n",
    "np.sqrt(pca.explained_variance_)"
   ]
  },
  {
   "cell_type": "markdown",
   "metadata": {},
   "source": [
    "##  4. Explained variance plot  "
   ]
  },
  {
   "cell_type": "code",
   "execution_count": 75,
   "metadata": {
    "colab": {
     "base_uri": "https://localhost:8080/",
     "height": 334
    },
    "id": "alRDgK9r3-53",
    "outputId": "3d657120-9421-42c4-8b23-742516db3be3"
   },
   "outputs": [
    {
     "data": {
      "image/png": "[encoded data removed]",
      "text/plain": [
       "<Figure size 504x720 with 1 Axes>"
      ]
     },
     "metadata": {
      "needs_background": "light"
     },
     "output_type": "display_data"
    }
   ],
   "source": [
    "\n",
    "plt.figure(figsize=(7,10))\n",
    "\n",
    "plt.plot([1,2,3,4], pca.explained_variance_ratio_, '-o', label='Individual component')\n",
    "plt.plot([1,2,3,4], np.cumsum(pca.explained_variance_ratio_), '-s', label='Cumulative')\n",
    "\n",
    "plt.ylabel('Proportion of Variance Explained')\n",
    "plt.xlabel('Principal Component')\n",
    "plt.xlim(0.75,4.25)\n",
    "plt.ylim(0,1.05)\n",
    "plt.xticks([1,2,3,4])\n",
    "plt.legend(loc=2);\n",
    "plt.axhline(y=0.95, color='green', linestyle='-')\n",
    "plt.text(3, 0.88, '95% cut-off threshold', color = 'red', fontsize=10)\n",
    "plt.show()"
   ]
  },
  {
   "cell_type": "markdown",
   "metadata": {},
   "source": [
    "The graph shows the amount of variance captured (on the y-axis) depending on the number of components we include (the x-axis).\n",
    "Generally we need to preserve around 95 % of the variance. So, in this instance, we decide to keep first 3 components."
   ]
  },
  {
   "cell_type": "code",
   "execution_count": 77,
   "metadata": {},
   "outputs": [
    {
     "data": {
      "text/plain": [
       "PCA(n_components=3)"
      ]
     },
     "execution_count": 77,
     "metadata": {},
     "output_type": "execute_result"
    }
   ],
   "source": [
    "# performing PCA with the chosen number of components\n",
    "pca = PCA(n_components = 3)\n",
    "pca.fit(x)"
   ]
  },
  {
   "cell_type": "code",
   "execution_count": 78,
   "metadata": {},
   "outputs": [
    {
     "data": {
      "text/plain": [
       "array([[-1.75971621, -0.24871159, -0.5243787 ],\n",
       "       [-0.87185317, -0.60256907,  1.77243889],\n",
       "       [-1.02021038,  1.03045336,  0.68028871],\n",
       "       [-1.38447434,  0.08043292,  0.0086106 ],\n",
       "       [-0.36813424,  0.20578114,  1.123724  ],\n",
       "       [ 0.24189917, -0.64393019,  1.52915215],\n",
       "       [ 0.87375614,  1.54452978, -0.69723642],\n",
       "       [-1.26180842,  1.81208589, -0.05312967],\n",
       "       [-1.57827344,  0.18324404, -0.06004743],\n",
       "       [-1.61553275, -2.06468837, -0.90271209],\n",
       "       [ 4.99150778, -2.09087706, -0.9240451 ],\n",
       "       [ 0.04710989,  1.34974505,  0.59044362],\n",
       "       [-1.04439777,  0.50582437, -0.13958436],\n",
       "       [ 0.69650225, -1.37428143,  0.06443767],\n",
       "       [ 2.74537038,  0.48386899, -0.29985993],\n",
       "       [ 0.56076259, -0.44463007, -0.07519976],\n",
       "       [-0.47501071, -2.33684269, -1.08444401],\n",
       "       [-1.76464298, -0.52188523, -0.78673671],\n",
       "       [ 0.50072897,  1.73605716, -0.43797825],\n",
       "       [-1.55085724,  0.64469578,  0.21622528],\n",
       "       [ 0.3954402 ,  1.26348979, -0.17728305],\n",
       "       [-0.88341312, -0.47528328,  0.56148857],\n",
       "       [ 2.50240348,  0.29255641,  0.10590517],\n",
       "       [-2.486089  , -0.29493965, -1.03144524],\n",
       "       [-0.21947048, -0.76520435,  0.54534871],\n",
       "       [ 0.06303443, -0.685437  , -0.01441035],\n",
       "       [ 0.89692516,  0.02065347,  0.21556651],\n",
       "       [-0.2563919 , -1.1395223 ,  1.26956244],\n",
       "       [ 2.39032593,  0.90577717, -0.63381315],\n",
       "       [ 0.19605143,  0.31891081, -0.51840582],\n",
       "       [-1.25797266,  0.23564693,  0.46225699],\n",
       "       [-0.9788617 ,  0.31704349, -0.09886001],\n",
       "       [-2.48783735,  1.23217098, -0.48515978],\n",
       "       [ 2.56025089,  1.68744696, -0.20338225],\n",
       "       [ 0.87563963, -1.01710408, -0.12036128],\n",
       "       [-0.12687145,  0.05600655,  0.13231647],\n",
       "       [ 0.47463753, -0.10275808,  1.56176216],\n",
       "       [ 0.7655755 , -0.32996174, -0.85081194],\n",
       "       [-0.40945766,  2.54409465, -0.75586343],\n",
       "       [-2.14504636,  0.03918264, -0.37974298],\n",
       "       [ 0.3702287 , -0.06494747,  0.19018985],\n",
       "       [-1.05659137, -1.68843765, -0.1693306 ],\n",
       "       [-0.72168918, -0.92894468, -0.4571625 ],\n",
       "       [ 1.62201868,  0.45446567,  0.96121396],\n",
       "       [ 1.7647609 , -0.94788834,  1.08030493],\n",
       "       [-0.50282552, -0.56747435, -0.08120014],\n",
       "       [ 0.84254286,  0.24990457,  1.32424116],\n",
       "       [-0.54701868, -0.93463936, -1.12203509],\n",
       "       [ 3.25114756,  0.54749287, -1.05963046],\n",
       "       [-0.85417196,  0.52939663, -0.2512273 ]])"
      ]
     },
     "execution_count": 78,
     "metadata": {},
     "output_type": "execute_result"
    }
   ],
   "source": [
    "# We need only the calculated resulting components scores for the elements in our data set:\n",
    "scores_pca = pca.transform(x)\n",
    "scores_pca"
   ]
  },
  {
   "cell_type": "code",
   "execution_count": 79,
   "metadata": {},
   "outputs": [
    {
     "data": {
      "text/html": [
       "<div>\n",
       "<style scoped>\n",
       "    .dataframe tbody tr th:only-of-type {\n",
       "        vertical-align: middle;\n",
       "    }\n",
       "\n",
       "    .dataframe tbody tr th {\n",
       "        vertical-align: top;\n",
       "    }\n",
       "\n",
       "    .dataframe thead th {\n",
       "        text-align: right;\n",
       "    }\n",
       "</style>\n",
       "<table border=\"1\" class=\"dataframe\">\n",
       "  <thead>\n",
       "    <tr style=\"text-align: right;\">\n",
       "      <th></th>\n",
       "      <th>0</th>\n",
       "      <th>1</th>\n",
       "      <th>2</th>\n",
       "    </tr>\n",
       "  </thead>\n",
       "  <tbody>\n",
       "    <tr>\n",
       "      <th>0</th>\n",
       "      <td>-1.759716</td>\n",
       "      <td>-0.248712</td>\n",
       "      <td>-0.524379</td>\n",
       "    </tr>\n",
       "    <tr>\n",
       "      <th>1</th>\n",
       "      <td>-0.871853</td>\n",
       "      <td>-0.602569</td>\n",
       "      <td>1.772439</td>\n",
       "    </tr>\n",
       "    <tr>\n",
       "      <th>2</th>\n",
       "      <td>-1.020210</td>\n",
       "      <td>1.030453</td>\n",
       "      <td>0.680289</td>\n",
       "    </tr>\n",
       "    <tr>\n",
       "      <th>3</th>\n",
       "      <td>-1.384474</td>\n",
       "      <td>0.080433</td>\n",
       "      <td>0.008611</td>\n",
       "    </tr>\n",
       "    <tr>\n",
       "      <th>4</th>\n",
       "      <td>-0.368134</td>\n",
       "      <td>0.205781</td>\n",
       "      <td>1.123724</td>\n",
       "    </tr>\n",
       "  </tbody>\n",
       "</table>\n",
       "</div>"
      ],
      "text/plain": [
       "          0         1         2\n",
       "0 -1.759716 -0.248712 -0.524379\n",
       "1 -0.871853 -0.602569  1.772439\n",
       "2 -1.020210  1.030453  0.680289\n",
       "3 -1.384474  0.080433  0.008611\n",
       "4 -0.368134  0.205781  1.123724"
      ]
     },
     "execution_count": 79,
     "metadata": {},
     "output_type": "execute_result"
    }
   ],
   "source": [
    "# Converting our numpy array to a dataframe\n",
    "df1 = pd.DataFrame(scores_pca)\n",
    "df1.head()"
   ]
  },
  {
   "cell_type": "markdown",
   "metadata": {},
   "source": [
    "## 5 . Kmeans  using principal components "
   ]
  },
  {
   "cell_type": "code",
   "execution_count": 80,
   "metadata": {
    "colab": {
     "base_uri": "https://localhost:8080/",
     "height": 480
    },
    "id": "suyA_Dq91oAQ",
    "outputId": "20a8bacb-17a3-479f-fd98-2f743e9f73f5"
   },
   "outputs": [
    {
     "name": "stdout",
     "output_type": "stream",
     "text": [
      "197.69383349729995\n",
      "125.33186947616444\n",
      "93.85025823464113\n",
      "71.59963343499166\n",
      "58.23092738725043\n",
      "47.247595538767264\n",
      "37.9612691861779\n",
      "32.226040760790134\n",
      "27.018886895190157\n",
      "23.74782268738255\n"
     ]
    },
    {
     "data": {
      "image/png": "[encoded data removed]",
      "text/plain": [
       "<Figure size 432x288 with 1 Axes>"
      ]
     },
     "metadata": {
      "needs_background": "light"
     },
     "output_type": "display_data"
    }
   ],
   "source": [
    "from sklearn.cluster import KMeans\n",
    "wcss2 = []\n",
    "for i in range(1,11):\n",
    "    kmeans = KMeans (n_clusters = i, init = 'k-means++', random_state = 42)\n",
    "    kmeans.fit(df1)\n",
    "    wcss2.append(kmeans.inertia_)\n",
    "    print(kmeans.inertia_)\n",
    "plt.plot(range(1,11), wcss2, '-o')\n",
    "plt.title(\"The elbow method\")\n",
    "plt.xlabel(\"Number of clusters\")\n",
    "plt.ylabel(\"wcss\")\n",
    "plt.show()  "
   ]
  },
  {
   "cell_type": "code",
   "execution_count": 81,
   "metadata": {
    "colab": {
     "base_uri": "https://localhost:8080/"
    },
    "id": "VDUFhTG-2M-2",
    "outputId": "9afdd80c-05ac-4d2c-940e-27fcdb573fb5"
   },
   "outputs": [
    {
     "name": "stdout",
     "output_type": "stream",
     "text": [
      "[1 2 3 1 2 2 3 3 1 1 0 3 3 2 0 2 1 1 3 3 3 1 0 1 2 2 2 2 0 3 3 3 3 0 2 2 2\n",
      " 2 3 1 2 1 1 2 2 1 2 1 0 3]\n"
     ]
    }
   ],
   "source": [
    "from sklearn.cluster import KMeans\n",
    "model_kmeans = KMeans(n_clusters=4)\n",
    "model_kmeans.fit(df1)\n",
    "labels_km = model_kmeans.predict(df1)\n",
    "print(labels_km)"
   ]
  },
  {
   "cell_type": "code",
   "execution_count": 82,
   "metadata": {},
   "outputs": [
    {
     "data": {
      "image/png": "[encoded data removed]",
      "text/plain": [
       "<Figure size 432x288 with 1 Axes>"
      ]
     },
     "metadata": {
      "needs_background": "light"
     },
     "output_type": "display_data"
    }
   ],
   "source": [
    "# Plotting pca components\n",
    "plt.scatter(df1[0], df1[1], c = labels_km)\n",
    "plt.xlabel('First Principal Component')\n",
    "plt.ylabel('Second Principal Component')\n",
    "plt.show()"
   ]
  },
  {
   "cell_type": "code",
   "execution_count": 83,
   "metadata": {},
   "outputs": [
    {
     "data": {
      "text/html": [
       "<div>\n",
       "<style scoped>\n",
       "    .dataframe tbody tr th:only-of-type {\n",
       "        vertical-align: middle;\n",
       "    }\n",
       "\n",
       "    .dataframe tbody tr th {\n",
       "        vertical-align: top;\n",
       "    }\n",
       "\n",
       "    .dataframe thead th {\n",
       "        text-align: right;\n",
       "    }\n",
       "</style>\n",
       "<table border=\"1\" class=\"dataframe\">\n",
       "  <thead>\n",
       "    <tr style=\"text-align: right;\">\n",
       "      <th></th>\n",
       "      <th>State</th>\n",
       "      <th>Murder</th>\n",
       "      <th>Assault</th>\n",
       "      <th>UrbanPop</th>\n",
       "      <th>Rape</th>\n",
       "      <th>Crime Cluster</th>\n",
       "      <th>Crime cluster HC</th>\n",
       "      <th>crime clusters kmpca</th>\n",
       "    </tr>\n",
       "  </thead>\n",
       "  <tbody>\n",
       "    <tr>\n",
       "      <th>0</th>\n",
       "      <td>Alabama</td>\n",
       "      <td>13.2</td>\n",
       "      <td>236</td>\n",
       "      <td>58</td>\n",
       "      <td>21.2</td>\n",
       "      <td>0</td>\n",
       "      <td>2</td>\n",
       "      <td>1</td>\n",
       "    </tr>\n",
       "    <tr>\n",
       "      <th>1</th>\n",
       "      <td>Alaska</td>\n",
       "      <td>10.0</td>\n",
       "      <td>263</td>\n",
       "      <td>48</td>\n",
       "      <td>44.5</td>\n",
       "      <td>0</td>\n",
       "      <td>2</td>\n",
       "      <td>2</td>\n",
       "    </tr>\n",
       "    <tr>\n",
       "      <th>2</th>\n",
       "      <td>Arizona</td>\n",
       "      <td>8.1</td>\n",
       "      <td>294</td>\n",
       "      <td>80</td>\n",
       "      <td>31.0</td>\n",
       "      <td>0</td>\n",
       "      <td>2</td>\n",
       "      <td>3</td>\n",
       "    </tr>\n",
       "    <tr>\n",
       "      <th>3</th>\n",
       "      <td>Arkansas</td>\n",
       "      <td>8.8</td>\n",
       "      <td>190</td>\n",
       "      <td>50</td>\n",
       "      <td>19.5</td>\n",
       "      <td>0</td>\n",
       "      <td>2</td>\n",
       "      <td>1</td>\n",
       "    </tr>\n",
       "    <tr>\n",
       "      <th>4</th>\n",
       "      <td>California</td>\n",
       "      <td>9.0</td>\n",
       "      <td>276</td>\n",
       "      <td>91</td>\n",
       "      <td>40.6</td>\n",
       "      <td>0</td>\n",
       "      <td>2</td>\n",
       "      <td>2</td>\n",
       "    </tr>\n",
       "  </tbody>\n",
       "</table>\n",
       "</div>"
      ],
      "text/plain": [
       "        State  Murder  Assault  UrbanPop  Rape  Crime Cluster  \\\n",
       "0     Alabama    13.2      236        58  21.2              0   \n",
       "1      Alaska    10.0      263        48  44.5              0   \n",
       "2     Arizona     8.1      294        80  31.0              0   \n",
       "3    Arkansas     8.8      190        50  19.5              0   \n",
       "4  California     9.0      276        91  40.6              0   \n",
       "\n",
       "   Crime cluster HC  crime clusters kmpca  \n",
       "0                 2                     1  \n",
       "1                 2                     2  \n",
       "2                 2                     3  \n",
       "3                 2                     1  \n",
       "4                 2                     2  "
      ]
     },
     "execution_count": 83,
     "metadata": {},
     "output_type": "execute_result"
    }
   ],
   "source": [
    "df['crime clusters kmpca'] = labels_km\n",
    "df.head()"
   ]
  },
  {
   "cell_type": "code",
   "execution_count": 84,
   "metadata": {},
   "outputs": [
    {
     "data": {
      "text/html": [
       "<div>\n",
       "<style scoped>\n",
       "    .dataframe tbody tr th:only-of-type {\n",
       "        vertical-align: middle;\n",
       "    }\n",
       "\n",
       "    .dataframe tbody tr th {\n",
       "        vertical-align: top;\n",
       "    }\n",
       "\n",
       "    .dataframe thead th {\n",
       "        text-align: right;\n",
       "    }\n",
       "</style>\n",
       "<table border=\"1\" class=\"dataframe\">\n",
       "  <thead>\n",
       "    <tr style=\"text-align: right;\">\n",
       "      <th></th>\n",
       "      <th>State</th>\n",
       "      <th>Murder</th>\n",
       "      <th>Assault</th>\n",
       "      <th>UrbanPop</th>\n",
       "      <th>Rape</th>\n",
       "      <th>Crime Cluster km</th>\n",
       "      <th>Crime cluster HC</th>\n",
       "      <th>crime clusters kmpca</th>\n",
       "    </tr>\n",
       "  </thead>\n",
       "  <tbody>\n",
       "    <tr>\n",
       "      <th>0</th>\n",
       "      <td>Alabama</td>\n",
       "      <td>13.2</td>\n",
       "      <td>236</td>\n",
       "      <td>58</td>\n",
       "      <td>21.2</td>\n",
       "      <td>0</td>\n",
       "      <td>2</td>\n",
       "      <td>1</td>\n",
       "    </tr>\n",
       "    <tr>\n",
       "      <th>1</th>\n",
       "      <td>Alaska</td>\n",
       "      <td>10.0</td>\n",
       "      <td>263</td>\n",
       "      <td>48</td>\n",
       "      <td>44.5</td>\n",
       "      <td>0</td>\n",
       "      <td>2</td>\n",
       "      <td>2</td>\n",
       "    </tr>\n",
       "    <tr>\n",
       "      <th>2</th>\n",
       "      <td>Arizona</td>\n",
       "      <td>8.1</td>\n",
       "      <td>294</td>\n",
       "      <td>80</td>\n",
       "      <td>31.0</td>\n",
       "      <td>0</td>\n",
       "      <td>2</td>\n",
       "      <td>3</td>\n",
       "    </tr>\n",
       "    <tr>\n",
       "      <th>3</th>\n",
       "      <td>Arkansas</td>\n",
       "      <td>8.8</td>\n",
       "      <td>190</td>\n",
       "      <td>50</td>\n",
       "      <td>19.5</td>\n",
       "      <td>0</td>\n",
       "      <td>2</td>\n",
       "      <td>1</td>\n",
       "    </tr>\n",
       "    <tr>\n",
       "      <th>4</th>\n",
       "      <td>California</td>\n",
       "      <td>9.0</td>\n",
       "      <td>276</td>\n",
       "      <td>91</td>\n",
       "      <td>40.6</td>\n",
       "      <td>0</td>\n",
       "      <td>2</td>\n",
       "      <td>2</td>\n",
       "    </tr>\n",
       "  </tbody>\n",
       "</table>\n",
       "</div>"
      ],
      "text/plain": [
       "        State  Murder  Assault  UrbanPop  Rape  Crime Cluster km  \\\n",
       "0     Alabama    13.2      236        58  21.2                 0   \n",
       "1      Alaska    10.0      263        48  44.5                 0   \n",
       "2     Arizona     8.1      294        80  31.0                 0   \n",
       "3    Arkansas     8.8      190        50  19.5                 0   \n",
       "4  California     9.0      276        91  40.6                 0   \n",
       "\n",
       "   Crime cluster HC  crime clusters kmpca  \n",
       "0                 2                     1  \n",
       "1                 2                     2  \n",
       "2                 2                     3  \n",
       "3                 2                     1  \n",
       "4                 2                     2  "
      ]
     },
     "execution_count": 84,
     "metadata": {},
     "output_type": "execute_result"
    }
   ],
   "source": [
    "df.rename(columns = {'Crime Cluster':'Crime Cluster km'}, inplace = True)\n",
    "df.head()"
   ]
  },
  {
   "cell_type": "markdown",
   "metadata": {},
   "source": [
    "## 6. HC using principal components"
   ]
  },
  {
   "cell_type": "code",
   "execution_count": 87,
   "metadata": {
    "colab": {
     "base_uri": "https://localhost:8080/",
     "height": 295
    },
    "id": "SAZl7rtk6mTx",
    "outputId": "0070f469-c4eb-4a1a-cab0-b2bad6b9bb57"
   },
   "outputs": [
    {
     "data": {
      "image/png": "[encoded data removed]",
      "text/plain": [
       "<Figure size 1080x576 with 1 Axes>"
      ]
     },
     "metadata": {
      "needs_background": "light"
     },
     "output_type": "display_data"
    }
   ],
   "source": [
    "import scipy.cluster.hierarchy as sch\n",
    "plt.figure(figsize = (15,8))\n",
    "dendrogram = sch.dendrogram(sch.linkage(df1, method = 'ward'))\n",
    "plt.title('Dendrogram')\n",
    "plt.xlabel('Clusters')\n",
    "plt.ylabel('Eucleidiean distances')\n",
    "plt.show()"
   ]
  },
  {
   "cell_type": "code",
   "execution_count": 88,
   "metadata": {
    "colab": {
     "base_uri": "https://localhost:8080/"
    },
    "id": "IjDcf1a-66HK",
    "outputId": "6b62b988-edca-40e7-e21e-b7568c668e3c"
   },
   "outputs": [
    {
     "data": {
      "text/plain": [
       "array([2, 0, 2, 2, 0, 0, 2, 2, 2, 0, 1, 2, 2, 0, 1, 0, 0, 2, 2, 2, 2, 0,\n",
       "       1, 2, 0, 0, 0, 0, 1, 0, 2, 2, 2, 1, 0, 0, 0, 0, 2, 2, 0, 0, 0, 0,\n",
       "       0, 0, 0, 0, 1, 2], dtype=int64)"
      ]
     },
     "execution_count": 88,
     "metadata": {},
     "output_type": "execute_result"
    }
   ],
   "source": [
    "from sklearn.cluster import AgglomerativeClustering\n",
    "cluster=AgglomerativeClustering(n_clusters=3,affinity='euclidean', linkage='ward')\n",
    "labels_hc = cluster.fit_predict(df1)\n",
    "labels_hc"
   ]
  },
  {
   "cell_type": "code",
   "execution_count": 89,
   "metadata": {},
   "outputs": [
    {
     "data": {
      "text/html": [
       "<div>\n",
       "<style scoped>\n",
       "    .dataframe tbody tr th:only-of-type {\n",
       "        vertical-align: middle;\n",
       "    }\n",
       "\n",
       "    .dataframe tbody tr th {\n",
       "        vertical-align: top;\n",
       "    }\n",
       "\n",
       "    .dataframe thead th {\n",
       "        text-align: right;\n",
       "    }\n",
       "</style>\n",
       "<table border=\"1\" class=\"dataframe\">\n",
       "  <thead>\n",
       "    <tr style=\"text-align: right;\">\n",
       "      <th></th>\n",
       "      <th>State</th>\n",
       "      <th>Murder</th>\n",
       "      <th>Assault</th>\n",
       "      <th>UrbanPop</th>\n",
       "      <th>Rape</th>\n",
       "      <th>Crime Cluster km</th>\n",
       "      <th>Crime cluster HC</th>\n",
       "      <th>crime clusters kmpca</th>\n",
       "      <th>crime clusters hcpca</th>\n",
       "    </tr>\n",
       "  </thead>\n",
       "  <tbody>\n",
       "    <tr>\n",
       "      <th>0</th>\n",
       "      <td>Alabama</td>\n",
       "      <td>13.2</td>\n",
       "      <td>236</td>\n",
       "      <td>58</td>\n",
       "      <td>21.2</td>\n",
       "      <td>0</td>\n",
       "      <td>2</td>\n",
       "      <td>1</td>\n",
       "      <td>2</td>\n",
       "    </tr>\n",
       "    <tr>\n",
       "      <th>1</th>\n",
       "      <td>Alaska</td>\n",
       "      <td>10.0</td>\n",
       "      <td>263</td>\n",
       "      <td>48</td>\n",
       "      <td>44.5</td>\n",
       "      <td>0</td>\n",
       "      <td>2</td>\n",
       "      <td>2</td>\n",
       "      <td>0</td>\n",
       "    </tr>\n",
       "    <tr>\n",
       "      <th>2</th>\n",
       "      <td>Arizona</td>\n",
       "      <td>8.1</td>\n",
       "      <td>294</td>\n",
       "      <td>80</td>\n",
       "      <td>31.0</td>\n",
       "      <td>0</td>\n",
       "      <td>2</td>\n",
       "      <td>3</td>\n",
       "      <td>2</td>\n",
       "    </tr>\n",
       "    <tr>\n",
       "      <th>3</th>\n",
       "      <td>Arkansas</td>\n",
       "      <td>8.8</td>\n",
       "      <td>190</td>\n",
       "      <td>50</td>\n",
       "      <td>19.5</td>\n",
       "      <td>0</td>\n",
       "      <td>2</td>\n",
       "      <td>1</td>\n",
       "      <td>2</td>\n",
       "    </tr>\n",
       "    <tr>\n",
       "      <th>4</th>\n",
       "      <td>California</td>\n",
       "      <td>9.0</td>\n",
       "      <td>276</td>\n",
       "      <td>91</td>\n",
       "      <td>40.6</td>\n",
       "      <td>0</td>\n",
       "      <td>2</td>\n",
       "      <td>2</td>\n",
       "      <td>0</td>\n",
       "    </tr>\n",
       "  </tbody>\n",
       "</table>\n",
       "</div>"
      ],
      "text/plain": [
       "        State  Murder  Assault  UrbanPop  Rape  Crime Cluster km  \\\n",
       "0     Alabama    13.2      236        58  21.2                 0   \n",
       "1      Alaska    10.0      263        48  44.5                 0   \n",
       "2     Arizona     8.1      294        80  31.0                 0   \n",
       "3    Arkansas     8.8      190        50  19.5                 0   \n",
       "4  California     9.0      276        91  40.6                 0   \n",
       "\n",
       "   Crime cluster HC  crime clusters kmpca  crime clusters hcpca  \n",
       "0                 2                     1                     2  \n",
       "1                 2                     2                     0  \n",
       "2                 2                     3                     2  \n",
       "3                 2                     1                     2  \n",
       "4                 2                     2                     0  "
      ]
     },
     "execution_count": 89,
     "metadata": {},
     "output_type": "execute_result"
    }
   ],
   "source": [
    "df['crime clusters hcpca'] = labels_hc\n",
    "df.head()"
   ]
  },
  {
   "cell_type": "code",
   "execution_count": 90,
   "metadata": {
    "colab": {
     "base_uri": "https://localhost:8080/",
     "height": 294
    },
    "id": "UWF3zBXp7Yig",
    "outputId": "99f7b2bd-b255-49f3-a1be-6d8d6e864797"
   },
   "outputs": [
    {
     "data": {
      "image/png": "[encoded data removed]",
      "text/plain": [
       "<Figure size 432x288 with 1 Axes>"
      ]
     },
     "metadata": {
      "needs_background": "light"
     },
     "output_type": "display_data"
    }
   ],
   "source": [
    "# Plotting pca components\n",
    "plt.scatter(df1[0], df1[1], c = labels_hc)\n",
    "plt.xlabel('First Principal Component')\n",
    "plt.ylabel('Second Principal Component')\n",
    "plt.show()"
   ]
  }
 ],
 "metadata": {
  "colab": {
   "collapsed_sections": [],
   "name": "Activity week 14.ipynb",
   "provenance": []
  },
  "kernelspec": {
   "display_name": "Python 3",
   "language": "python",
   "name": "python3"
  },
  "language_info": {
   "codemirror_mode": {
    "name": "ipython",
    "version": 3
   },
   "file_extension": ".py",
   "mimetype": "text/x-python",
   "name": "python",
   "nbconvert_exporter": "python",
   "pygments_lexer": "ipython3",
   "version": "3.8.8"
  }
 },
 "nbformat": 4,
 "nbformat_minor": 1
}
